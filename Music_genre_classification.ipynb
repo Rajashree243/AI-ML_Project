{
  "nbformat": 4,
  "nbformat_minor": 0,
  "metadata": {
    "colab": {
      "provenance": [],
      "mount_file_id": "1HHvkXZ-MbfMtJzOKXeTK7uc1yq8iovLE",
      "authorship_tag": "ABX9TyPw+7bsbsBEYcUeHN/zuXMS",
      "include_colab_link": true
    },
    "kernelspec": {
      "name": "python3",
      "display_name": "Python 3"
    },
    "language_info": {
      "name": "python"
    }
  },
  "cells": [
    {
      "cell_type": "markdown",
      "metadata": {
        "id": "view-in-github",
        "colab_type": "text"
      },
      "source": [
        "<a href=\"https://colab.research.google.com/github/Rajashree243/AI-ML_Project/blob/main/Music_genre_classification.ipynb\" target=\"_parent\"><img src=\"https://colab.research.google.com/assets/colab-badge.svg\" alt=\"Open In Colab\"/></a>"
      ]
    },
    {
      "cell_type": "code",
      "execution_count": null,
      "metadata": {
        "colab": {
          "base_uri": "https://localhost:8080/"
        },
        "id": "IP5NaW0V3qWi",
        "outputId": "c6be6454-ad76-49c9-96c1-168e11dd703f"
      },
      "outputs": [
        {
          "output_type": "stream",
          "name": "stdout",
          "text": [
            "Drive already mounted at /content/drive; to attempt to forcibly remount, call drive.mount(\"/content/drive\", force_remount=True).\n"
          ]
        }
      ],
      "source": [
        "from google.colab import drive\n",
        "drive.mount('/content/drive')"
      ]
    },
    {
      "cell_type": "code",
      "source": [
        "import os\n",
        "\n",
        "Root=\"/content/drive/MyDrive/Colab Notebooks/archive\"\n",
        "os.chdir(Root)"
      ],
      "metadata": {
        "id": "xQvsDE9K5zGu"
      },
      "execution_count": null,
      "outputs": []
    },
    {
      "cell_type": "code",
      "source": [
        "pip install librosa"
      ],
      "metadata": {
        "colab": {
          "base_uri": "https://localhost:8080/"
        },
        "id": "h_g7X7-C3ywu",
        "outputId": "8846b69f-cead-4404-9197-51701fb9c8b6"
      },
      "execution_count": null,
      "outputs": [
        {
          "output_type": "stream",
          "name": "stdout",
          "text": [
            "Requirement already satisfied: librosa in /usr/local/lib/python3.10/dist-packages (0.10.1)\n",
            "Requirement already satisfied: audioread>=2.1.9 in /usr/local/lib/python3.10/dist-packages (from librosa) (3.0.1)\n",
            "Requirement already satisfied: numpy!=1.22.0,!=1.22.1,!=1.22.2,>=1.20.3 in /usr/local/lib/python3.10/dist-packages (from librosa) (1.23.5)\n",
            "Requirement already satisfied: scipy>=1.2.0 in /usr/local/lib/python3.10/dist-packages (from librosa) (1.11.4)\n",
            "Requirement already satisfied: scikit-learn>=0.20.0 in /usr/local/lib/python3.10/dist-packages (from librosa) (1.2.2)\n",
            "Requirement already satisfied: joblib>=0.14 in /usr/local/lib/python3.10/dist-packages (from librosa) (1.3.2)\n",
            "Requirement already satisfied: decorator>=4.3.0 in /usr/local/lib/python3.10/dist-packages (from librosa) (4.4.2)\n",
            "Requirement already satisfied: numba>=0.51.0 in /usr/local/lib/python3.10/dist-packages (from librosa) (0.58.1)\n",
            "Requirement already satisfied: soundfile>=0.12.1 in /usr/local/lib/python3.10/dist-packages (from librosa) (0.12.1)\n",
            "Requirement already satisfied: pooch>=1.0 in /usr/local/lib/python3.10/dist-packages (from librosa) (1.8.0)\n",
            "Requirement already satisfied: soxr>=0.3.2 in /usr/local/lib/python3.10/dist-packages (from librosa) (0.3.7)\n",
            "Requirement already satisfied: typing-extensions>=4.1.1 in /usr/local/lib/python3.10/dist-packages (from librosa) (4.5.0)\n",
            "Requirement already satisfied: lazy-loader>=0.1 in /usr/local/lib/python3.10/dist-packages (from librosa) (0.3)\n",
            "Requirement already satisfied: msgpack>=1.0 in /usr/local/lib/python3.10/dist-packages (from librosa) (1.0.7)\n",
            "Requirement already satisfied: llvmlite<0.42,>=0.41.0dev0 in /usr/local/lib/python3.10/dist-packages (from numba>=0.51.0->librosa) (0.41.1)\n",
            "Requirement already satisfied: platformdirs>=2.5.0 in /usr/local/lib/python3.10/dist-packages (from pooch>=1.0->librosa) (4.1.0)\n",
            "Requirement already satisfied: packaging>=20.0 in /usr/local/lib/python3.10/dist-packages (from pooch>=1.0->librosa) (23.2)\n",
            "Requirement already satisfied: requests>=2.19.0 in /usr/local/lib/python3.10/dist-packages (from pooch>=1.0->librosa) (2.31.0)\n",
            "Requirement already satisfied: threadpoolctl>=2.0.0 in /usr/local/lib/python3.10/dist-packages (from scikit-learn>=0.20.0->librosa) (3.2.0)\n",
            "Requirement already satisfied: cffi>=1.0 in /usr/local/lib/python3.10/dist-packages (from soundfile>=0.12.1->librosa) (1.16.0)\n",
            "Requirement already satisfied: pycparser in /usr/local/lib/python3.10/dist-packages (from cffi>=1.0->soundfile>=0.12.1->librosa) (2.21)\n",
            "Requirement already satisfied: charset-normalizer<4,>=2 in /usr/local/lib/python3.10/dist-packages (from requests>=2.19.0->pooch>=1.0->librosa) (3.3.2)\n",
            "Requirement already satisfied: idna<4,>=2.5 in /usr/local/lib/python3.10/dist-packages (from requests>=2.19.0->pooch>=1.0->librosa) (3.6)\n",
            "Requirement already satisfied: urllib3<3,>=1.21.1 in /usr/local/lib/python3.10/dist-packages (from requests>=2.19.0->pooch>=1.0->librosa) (2.0.7)\n",
            "Requirement already satisfied: certifi>=2017.4.17 in /usr/local/lib/python3.10/dist-packages (from requests>=2.19.0->pooch>=1.0->librosa) (2023.11.17)\n"
          ]
        }
      ]
    },
    {
      "cell_type": "code",
      "source": [
        "import pandas as pd\n",
        "import numpy as np\n",
        "import os\n",
        "import IPython.display as ipd\n",
        "import librosa\n",
        "import librosa.display\n",
        "import matplotlib.pyplot as plt\n",
        "%matplotlib inline\n"
      ],
      "metadata": {
        "id": "rBcLMnpB4Fwt"
      },
      "execution_count": null,
      "outputs": []
    },
    {
      "cell_type": "code",
      "source": [
        "audio_dataset_path='/content/drive/MyDrive/Colab Notebooks/archive/Data/genres_original'\n",
        "metadata=pd.read_csv('/content/drive/MyDrive/Colab Notebooks/archive/Data/features_30_sec.csv')\n",
        "metadata.head()"
      ],
      "metadata": {
        "colab": {
          "base_uri": "https://localhost:8080/",
          "height": 256
        },
        "id": "qoD9bE8v6xDN",
        "outputId": "455fe0dc-9852-450a-8d8b-360b653e1af7"
      },
      "execution_count": null,
      "outputs": [
        {
          "output_type": "execute_result",
          "data": {
            "text/plain": [
              "          filename  length  chroma_stft_mean  chroma_stft_var  rms_mean  \\\n",
              "0  blues.00000.wav  661794          0.350088         0.088757  0.130228   \n",
              "1  blues.00001.wav  661794          0.340914         0.094980  0.095948   \n",
              "2  blues.00002.wav  661794          0.363637         0.085275  0.175570   \n",
              "3  blues.00003.wav  661794          0.404785         0.093999  0.141093   \n",
              "4  blues.00004.wav  661794          0.308526         0.087841  0.091529   \n",
              "\n",
              "    rms_var  spectral_centroid_mean  spectral_centroid_var  \\\n",
              "0  0.002827             1784.165850          129774.064525   \n",
              "1  0.002373             1530.176679          375850.073649   \n",
              "2  0.002746             1552.811865          156467.643368   \n",
              "3  0.006346             1070.106615          184355.942417   \n",
              "4  0.002303             1835.004266          343399.939274   \n",
              "\n",
              "   spectral_bandwidth_mean  spectral_bandwidth_var  ...  mfcc16_var  \\\n",
              "0              2002.449060            85882.761315  ...   52.420910   \n",
              "1              2039.036516           213843.755497  ...   55.356403   \n",
              "2              1747.702312            76254.192257  ...   40.598766   \n",
              "3              1596.412872           166441.494769  ...   44.427753   \n",
              "4              1748.172116            88445.209036  ...   86.099236   \n",
              "\n",
              "   mfcc17_mean  mfcc17_var  mfcc18_mean  mfcc18_var  mfcc19_mean  mfcc19_var  \\\n",
              "0    -1.690215   36.524071    -0.408979   41.597103    -2.303523   55.062923   \n",
              "1    -0.731125   60.314529     0.295073   48.120598    -0.283518   51.106190   \n",
              "2    -7.729093   47.639427    -1.816407   52.382141    -3.439720   46.639660   \n",
              "3    -3.319597   50.206673     0.636965   37.319130    -0.619121   37.259739   \n",
              "4    -5.454034   75.269707    -0.916874   53.613918    -4.404827   62.910812   \n",
              "\n",
              "   mfcc20_mean  mfcc20_var  label  \n",
              "0     1.221291   46.936035  blues  \n",
              "1     0.531217   45.786282  blues  \n",
              "2    -2.231258   30.573025  blues  \n",
              "3    -3.407448   31.949339  blues  \n",
              "4   -11.703234   55.195160  blues  \n",
              "\n",
              "[5 rows x 60 columns]"
            ],
            "text/html": [
              "\n",
              "  <div id=\"df-76f63228-7704-4f14-a1f3-9ebd01873412\" class=\"colab-df-container\">\n",
              "    <div>\n",
              "<style scoped>\n",
              "    .dataframe tbody tr th:only-of-type {\n",
              "        vertical-align: middle;\n",
              "    }\n",
              "\n",
              "    .dataframe tbody tr th {\n",
              "        vertical-align: top;\n",
              "    }\n",
              "\n",
              "    .dataframe thead th {\n",
              "        text-align: right;\n",
              "    }\n",
              "</style>\n",
              "<table border=\"1\" class=\"dataframe\">\n",
              "  <thead>\n",
              "    <tr style=\"text-align: right;\">\n",
              "      <th></th>\n",
              "      <th>filename</th>\n",
              "      <th>length</th>\n",
              "      <th>chroma_stft_mean</th>\n",
              "      <th>chroma_stft_var</th>\n",
              "      <th>rms_mean</th>\n",
              "      <th>rms_var</th>\n",
              "      <th>spectral_centroid_mean</th>\n",
              "      <th>spectral_centroid_var</th>\n",
              "      <th>spectral_bandwidth_mean</th>\n",
              "      <th>spectral_bandwidth_var</th>\n",
              "      <th>...</th>\n",
              "      <th>mfcc16_var</th>\n",
              "      <th>mfcc17_mean</th>\n",
              "      <th>mfcc17_var</th>\n",
              "      <th>mfcc18_mean</th>\n",
              "      <th>mfcc18_var</th>\n",
              "      <th>mfcc19_mean</th>\n",
              "      <th>mfcc19_var</th>\n",
              "      <th>mfcc20_mean</th>\n",
              "      <th>mfcc20_var</th>\n",
              "      <th>label</th>\n",
              "    </tr>\n",
              "  </thead>\n",
              "  <tbody>\n",
              "    <tr>\n",
              "      <th>0</th>\n",
              "      <td>blues.00000.wav</td>\n",
              "      <td>661794</td>\n",
              "      <td>0.350088</td>\n",
              "      <td>0.088757</td>\n",
              "      <td>0.130228</td>\n",
              "      <td>0.002827</td>\n",
              "      <td>1784.165850</td>\n",
              "      <td>129774.064525</td>\n",
              "      <td>2002.449060</td>\n",
              "      <td>85882.761315</td>\n",
              "      <td>...</td>\n",
              "      <td>52.420910</td>\n",
              "      <td>-1.690215</td>\n",
              "      <td>36.524071</td>\n",
              "      <td>-0.408979</td>\n",
              "      <td>41.597103</td>\n",
              "      <td>-2.303523</td>\n",
              "      <td>55.062923</td>\n",
              "      <td>1.221291</td>\n",
              "      <td>46.936035</td>\n",
              "      <td>blues</td>\n",
              "    </tr>\n",
              "    <tr>\n",
              "      <th>1</th>\n",
              "      <td>blues.00001.wav</td>\n",
              "      <td>661794</td>\n",
              "      <td>0.340914</td>\n",
              "      <td>0.094980</td>\n",
              "      <td>0.095948</td>\n",
              "      <td>0.002373</td>\n",
              "      <td>1530.176679</td>\n",
              "      <td>375850.073649</td>\n",
              "      <td>2039.036516</td>\n",
              "      <td>213843.755497</td>\n",
              "      <td>...</td>\n",
              "      <td>55.356403</td>\n",
              "      <td>-0.731125</td>\n",
              "      <td>60.314529</td>\n",
              "      <td>0.295073</td>\n",
              "      <td>48.120598</td>\n",
              "      <td>-0.283518</td>\n",
              "      <td>51.106190</td>\n",
              "      <td>0.531217</td>\n",
              "      <td>45.786282</td>\n",
              "      <td>blues</td>\n",
              "    </tr>\n",
              "    <tr>\n",
              "      <th>2</th>\n",
              "      <td>blues.00002.wav</td>\n",
              "      <td>661794</td>\n",
              "      <td>0.363637</td>\n",
              "      <td>0.085275</td>\n",
              "      <td>0.175570</td>\n",
              "      <td>0.002746</td>\n",
              "      <td>1552.811865</td>\n",
              "      <td>156467.643368</td>\n",
              "      <td>1747.702312</td>\n",
              "      <td>76254.192257</td>\n",
              "      <td>...</td>\n",
              "      <td>40.598766</td>\n",
              "      <td>-7.729093</td>\n",
              "      <td>47.639427</td>\n",
              "      <td>-1.816407</td>\n",
              "      <td>52.382141</td>\n",
              "      <td>-3.439720</td>\n",
              "      <td>46.639660</td>\n",
              "      <td>-2.231258</td>\n",
              "      <td>30.573025</td>\n",
              "      <td>blues</td>\n",
              "    </tr>\n",
              "    <tr>\n",
              "      <th>3</th>\n",
              "      <td>blues.00003.wav</td>\n",
              "      <td>661794</td>\n",
              "      <td>0.404785</td>\n",
              "      <td>0.093999</td>\n",
              "      <td>0.141093</td>\n",
              "      <td>0.006346</td>\n",
              "      <td>1070.106615</td>\n",
              "      <td>184355.942417</td>\n",
              "      <td>1596.412872</td>\n",
              "      <td>166441.494769</td>\n",
              "      <td>...</td>\n",
              "      <td>44.427753</td>\n",
              "      <td>-3.319597</td>\n",
              "      <td>50.206673</td>\n",
              "      <td>0.636965</td>\n",
              "      <td>37.319130</td>\n",
              "      <td>-0.619121</td>\n",
              "      <td>37.259739</td>\n",
              "      <td>-3.407448</td>\n",
              "      <td>31.949339</td>\n",
              "      <td>blues</td>\n",
              "    </tr>\n",
              "    <tr>\n",
              "      <th>4</th>\n",
              "      <td>blues.00004.wav</td>\n",
              "      <td>661794</td>\n",
              "      <td>0.308526</td>\n",
              "      <td>0.087841</td>\n",
              "      <td>0.091529</td>\n",
              "      <td>0.002303</td>\n",
              "      <td>1835.004266</td>\n",
              "      <td>343399.939274</td>\n",
              "      <td>1748.172116</td>\n",
              "      <td>88445.209036</td>\n",
              "      <td>...</td>\n",
              "      <td>86.099236</td>\n",
              "      <td>-5.454034</td>\n",
              "      <td>75.269707</td>\n",
              "      <td>-0.916874</td>\n",
              "      <td>53.613918</td>\n",
              "      <td>-4.404827</td>\n",
              "      <td>62.910812</td>\n",
              "      <td>-11.703234</td>\n",
              "      <td>55.195160</td>\n",
              "      <td>blues</td>\n",
              "    </tr>\n",
              "  </tbody>\n",
              "</table>\n",
              "<p>5 rows × 60 columns</p>\n",
              "</div>\n",
              "    <div class=\"colab-df-buttons\">\n",
              "\n",
              "  <div class=\"colab-df-container\">\n",
              "    <button class=\"colab-df-convert\" onclick=\"convertToInteractive('df-76f63228-7704-4f14-a1f3-9ebd01873412')\"\n",
              "            title=\"Convert this dataframe to an interactive table.\"\n",
              "            style=\"display:none;\">\n",
              "\n",
              "  <svg xmlns=\"http://www.w3.org/2000/svg\" height=\"24px\" viewBox=\"0 -960 960 960\">\n",
              "    <path d=\"M120-120v-720h720v720H120Zm60-500h600v-160H180v160Zm220 220h160v-160H400v160Zm0 220h160v-160H400v160ZM180-400h160v-160H180v160Zm440 0h160v-160H620v160ZM180-180h160v-160H180v160Zm440 0h160v-160H620v160Z\"/>\n",
              "  </svg>\n",
              "    </button>\n",
              "\n",
              "  <style>\n",
              "    .colab-df-container {\n",
              "      display:flex;\n",
              "      gap: 12px;\n",
              "    }\n",
              "\n",
              "    .colab-df-convert {\n",
              "      background-color: #E8F0FE;\n",
              "      border: none;\n",
              "      border-radius: 50%;\n",
              "      cursor: pointer;\n",
              "      display: none;\n",
              "      fill: #1967D2;\n",
              "      height: 32px;\n",
              "      padding: 0 0 0 0;\n",
              "      width: 32px;\n",
              "    }\n",
              "\n",
              "    .colab-df-convert:hover {\n",
              "      background-color: #E2EBFA;\n",
              "      box-shadow: 0px 1px 2px rgba(60, 64, 67, 0.3), 0px 1px 3px 1px rgba(60, 64, 67, 0.15);\n",
              "      fill: #174EA6;\n",
              "    }\n",
              "\n",
              "    .colab-df-buttons div {\n",
              "      margin-bottom: 4px;\n",
              "    }\n",
              "\n",
              "    [theme=dark] .colab-df-convert {\n",
              "      background-color: #3B4455;\n",
              "      fill: #D2E3FC;\n",
              "    }\n",
              "\n",
              "    [theme=dark] .colab-df-convert:hover {\n",
              "      background-color: #434B5C;\n",
              "      box-shadow: 0px 1px 3px 1px rgba(0, 0, 0, 0.15);\n",
              "      filter: drop-shadow(0px 1px 2px rgba(0, 0, 0, 0.3));\n",
              "      fill: #FFFFFF;\n",
              "    }\n",
              "  </style>\n",
              "\n",
              "    <script>\n",
              "      const buttonEl =\n",
              "        document.querySelector('#df-76f63228-7704-4f14-a1f3-9ebd01873412 button.colab-df-convert');\n",
              "      buttonEl.style.display =\n",
              "        google.colab.kernel.accessAllowed ? 'block' : 'none';\n",
              "\n",
              "      async function convertToInteractive(key) {\n",
              "        const element = document.querySelector('#df-76f63228-7704-4f14-a1f3-9ebd01873412');\n",
              "        const dataTable =\n",
              "          await google.colab.kernel.invokeFunction('convertToInteractive',\n",
              "                                                    [key], {});\n",
              "        if (!dataTable) return;\n",
              "\n",
              "        const docLinkHtml = 'Like what you see? Visit the ' +\n",
              "          '<a target=\"_blank\" href=https://colab.research.google.com/notebooks/data_table.ipynb>data table notebook</a>'\n",
              "          + ' to learn more about interactive tables.';\n",
              "        element.innerHTML = '';\n",
              "        dataTable['output_type'] = 'display_data';\n",
              "        await google.colab.output.renderOutput(dataTable, element);\n",
              "        const docLink = document.createElement('div');\n",
              "        docLink.innerHTML = docLinkHtml;\n",
              "        element.appendChild(docLink);\n",
              "      }\n",
              "    </script>\n",
              "  </div>\n",
              "\n",
              "\n",
              "<div id=\"df-1f889325-3e74-4e4f-939f-84fd14a7c90e\">\n",
              "  <button class=\"colab-df-quickchart\" onclick=\"quickchart('df-1f889325-3e74-4e4f-939f-84fd14a7c90e')\"\n",
              "            title=\"Suggest charts\"\n",
              "            style=\"display:none;\">\n",
              "\n",
              "<svg xmlns=\"http://www.w3.org/2000/svg\" height=\"24px\"viewBox=\"0 0 24 24\"\n",
              "     width=\"24px\">\n",
              "    <g>\n",
              "        <path d=\"M19 3H5c-1.1 0-2 .9-2 2v14c0 1.1.9 2 2 2h14c1.1 0 2-.9 2-2V5c0-1.1-.9-2-2-2zM9 17H7v-7h2v7zm4 0h-2V7h2v10zm4 0h-2v-4h2v4z\"/>\n",
              "    </g>\n",
              "</svg>\n",
              "  </button>\n",
              "\n",
              "<style>\n",
              "  .colab-df-quickchart {\n",
              "      --bg-color: #E8F0FE;\n",
              "      --fill-color: #1967D2;\n",
              "      --hover-bg-color: #E2EBFA;\n",
              "      --hover-fill-color: #174EA6;\n",
              "      --disabled-fill-color: #AAA;\n",
              "      --disabled-bg-color: #DDD;\n",
              "  }\n",
              "\n",
              "  [theme=dark] .colab-df-quickchart {\n",
              "      --bg-color: #3B4455;\n",
              "      --fill-color: #D2E3FC;\n",
              "      --hover-bg-color: #434B5C;\n",
              "      --hover-fill-color: #FFFFFF;\n",
              "      --disabled-bg-color: #3B4455;\n",
              "      --disabled-fill-color: #666;\n",
              "  }\n",
              "\n",
              "  .colab-df-quickchart {\n",
              "    background-color: var(--bg-color);\n",
              "    border: none;\n",
              "    border-radius: 50%;\n",
              "    cursor: pointer;\n",
              "    display: none;\n",
              "    fill: var(--fill-color);\n",
              "    height: 32px;\n",
              "    padding: 0;\n",
              "    width: 32px;\n",
              "  }\n",
              "\n",
              "  .colab-df-quickchart:hover {\n",
              "    background-color: var(--hover-bg-color);\n",
              "    box-shadow: 0 1px 2px rgba(60, 64, 67, 0.3), 0 1px 3px 1px rgba(60, 64, 67, 0.15);\n",
              "    fill: var(--button-hover-fill-color);\n",
              "  }\n",
              "\n",
              "  .colab-df-quickchart-complete:disabled,\n",
              "  .colab-df-quickchart-complete:disabled:hover {\n",
              "    background-color: var(--disabled-bg-color);\n",
              "    fill: var(--disabled-fill-color);\n",
              "    box-shadow: none;\n",
              "  }\n",
              "\n",
              "  .colab-df-spinner {\n",
              "    border: 2px solid var(--fill-color);\n",
              "    border-color: transparent;\n",
              "    border-bottom-color: var(--fill-color);\n",
              "    animation:\n",
              "      spin 1s steps(1) infinite;\n",
              "  }\n",
              "\n",
              "  @keyframes spin {\n",
              "    0% {\n",
              "      border-color: transparent;\n",
              "      border-bottom-color: var(--fill-color);\n",
              "      border-left-color: var(--fill-color);\n",
              "    }\n",
              "    20% {\n",
              "      border-color: transparent;\n",
              "      border-left-color: var(--fill-color);\n",
              "      border-top-color: var(--fill-color);\n",
              "    }\n",
              "    30% {\n",
              "      border-color: transparent;\n",
              "      border-left-color: var(--fill-color);\n",
              "      border-top-color: var(--fill-color);\n",
              "      border-right-color: var(--fill-color);\n",
              "    }\n",
              "    40% {\n",
              "      border-color: transparent;\n",
              "      border-right-color: var(--fill-color);\n",
              "      border-top-color: var(--fill-color);\n",
              "    }\n",
              "    60% {\n",
              "      border-color: transparent;\n",
              "      border-right-color: var(--fill-color);\n",
              "    }\n",
              "    80% {\n",
              "      border-color: transparent;\n",
              "      border-right-color: var(--fill-color);\n",
              "      border-bottom-color: var(--fill-color);\n",
              "    }\n",
              "    90% {\n",
              "      border-color: transparent;\n",
              "      border-bottom-color: var(--fill-color);\n",
              "    }\n",
              "  }\n",
              "</style>\n",
              "\n",
              "  <script>\n",
              "    async function quickchart(key) {\n",
              "      const quickchartButtonEl =\n",
              "        document.querySelector('#' + key + ' button');\n",
              "      quickchartButtonEl.disabled = true;  // To prevent multiple clicks.\n",
              "      quickchartButtonEl.classList.add('colab-df-spinner');\n",
              "      try {\n",
              "        const charts = await google.colab.kernel.invokeFunction(\n",
              "            'suggestCharts', [key], {});\n",
              "      } catch (error) {\n",
              "        console.error('Error during call to suggestCharts:', error);\n",
              "      }\n",
              "      quickchartButtonEl.classList.remove('colab-df-spinner');\n",
              "      quickchartButtonEl.classList.add('colab-df-quickchart-complete');\n",
              "    }\n",
              "    (() => {\n",
              "      let quickchartButtonEl =\n",
              "        document.querySelector('#df-1f889325-3e74-4e4f-939f-84fd14a7c90e button');\n",
              "      quickchartButtonEl.style.display =\n",
              "        google.colab.kernel.accessAllowed ? 'block' : 'none';\n",
              "    })();\n",
              "  </script>\n",
              "</div>\n",
              "\n",
              "    </div>\n",
              "  </div>\n"
            ]
          },
          "metadata": {},
          "execution_count": 9
        }
      ]
    },
    {
      "cell_type": "code",
      "source": [
        "import pandas as pd"
      ],
      "metadata": {
        "id": "gAFE4-qiZ97D"
      },
      "execution_count": null,
      "outputs": []
    },
    {
      "cell_type": "code",
      "source": [
        "def features_extractor(file):\n",
        "    audio,sample_rate = librosa.load(file_name, res_type='kaiser_fast')\n",
        "    mfccs_features = librosa.feature.mfcc(y=audio, sr=sample_rate, n_mfcc=40)\n",
        "    mfccs_scaled_features = np.mean(mfccs_features.T,axis=0)\n",
        "\n",
        "    return mfccs_scaled_features"
      ],
      "metadata": {
        "id": "4ZPbFVe5aEj6"
      },
      "execution_count": null,
      "outputs": []
    },
    {
      "cell_type": "code",
      "source": [
        "metadata.drop(labels=552,axis= 0,inplace= True)"
      ],
      "metadata": {
        "id": "3YuEmmwLcIPb"
      },
      "execution_count": null,
      "outputs": []
    },
    {
      "cell_type": "code",
      "source": [
        "if 552 in metadata.index:\n",
        "    metadata.drop(labels=552, axis=0, inplace=True)\n",
        "    print(\"Label 552 dropped successfully.\")\n",
        "else:\n",
        "    print(\"Label 552 not found in the DataFrame's index.\")"
      ],
      "metadata": {
        "colab": {
          "base_uri": "https://localhost:8080/"
        },
        "id": "pGYdEkPGiD7Y",
        "outputId": "d96f8726-1a60-4d0d-8d39-4007dab7c5ab"
      },
      "execution_count": null,
      "outputs": [
        {
          "output_type": "stream",
          "name": "stdout",
          "text": [
            "Label 552 not found in the DataFrame's index.\n"
          ]
        }
      ]
    },
    {
      "cell_type": "code",
      "source": [
        "from tqdm import tqdm\n",
        "extracted_features=[]\n",
        "for index_num,row in tqdm(metadata.iterrows()):\n",
        "  try:\n",
        "    final_class_labels=row[\"label\"]\n",
        "    file_name = os.path.join(os.path.abspath(audio_dataset_path), final_class_labels+'/',str(row[\"filename\"]))\n",
        "    data=features_extractor(file_name)\n",
        "    extracted_features.append([data, final_class_labels])\n",
        "  except Exception as e:\n",
        "    print(f\"Error: {e}\")\n",
        "    continue"
      ],
      "metadata": {
        "colab": {
          "base_uri": "https://localhost:8080/"
        },
        "id": "hmOcB7hwcXl4",
        "outputId": "a42ee5d4-69e1-4d0f-9bd2-46d355c8518b"
      },
      "execution_count": null,
      "outputs": [
        {
          "output_type": "stream",
          "name": "stderr",
          "text": [
            "553it [02:59,  3.69it/s]<ipython-input-11-a3210835db2b>:2: UserWarning: PySoundFile failed. Trying audioread instead.\n",
            "  audio,sample_rate = librosa.load(file_name, res_type='kaiser_fast')\n",
            "/usr/local/lib/python3.10/dist-packages/librosa/core/audio.py:183: FutureWarning: librosa.core.audio.__audioread_load\n",
            "\tDeprecated as of librosa version 0.10.0.\n",
            "\tIt will be removed in librosa version 1.0.\n",
            "  y, sr_native = __audioread_load(path, offset, duration, dtype)\n",
            "554it [02:59,  3.15it/s]"
          ]
        },
        {
          "output_type": "stream",
          "name": "stdout",
          "text": [
            "Error: \n"
          ]
        },
        {
          "output_type": "stream",
          "name": "stderr",
          "text": [
            "999it [05:17,  3.15it/s]\n"
          ]
        }
      ]
    },
    {
      "cell_type": "markdown",
      "source": [
        "# New Section"
      ],
      "metadata": {
        "id": "wdIXHXea-nyS"
      }
    },
    {
      "cell_type": "code",
      "source": [
        "import os\n",
        "\n",
        "file_path = '/content/drive/MyDrive/Colab Notebooks/archive/Data/genres_original'\n",
        "\n",
        "if os.path.exists(file_path):\n",
        "    # Your code to work with the file\n",
        "    print(\"Yes Exist\")\n",
        "else:\n",
        "    print(f\"The file '{file_path}' does not exist.\")"
      ],
      "metadata": {
        "colab": {
          "base_uri": "https://localhost:8080/"
        },
        "id": "PQsN1lPelIZM",
        "outputId": "686efb8b-2621-49b6-f270-d43902c4ce8b"
      },
      "execution_count": null,
      "outputs": [
        {
          "output_type": "stream",
          "name": "stdout",
          "text": [
            "Yes Exist\n"
          ]
        }
      ]
    },
    {
      "cell_type": "code",
      "source": [
        "import librosa\n",
        "print(librosa.__version__)"
      ],
      "metadata": {
        "colab": {
          "base_uri": "https://localhost:8080/"
        },
        "id": "eGCuulAuepk6",
        "outputId": "6bfbb80d-552a-494d-e3c4-ed2b5bb5c49e"
      },
      "execution_count": null,
      "outputs": [
        {
          "output_type": "stream",
          "name": "stdout",
          "text": [
            "0.10.1\n"
          ]
        }
      ]
    },
    {
      "cell_type": "code",
      "source": [
        "pip install --upgrade librosa"
      ],
      "metadata": {
        "colab": {
          "base_uri": "https://localhost:8080/"
        },
        "id": "VWfM6-ylh7Bj",
        "outputId": "0cb82d5f-5f0a-4f79-83d7-c2ecc4cc75f6"
      },
      "execution_count": null,
      "outputs": [
        {
          "output_type": "stream",
          "name": "stdout",
          "text": [
            "Requirement already satisfied: librosa in /usr/local/lib/python3.10/dist-packages (0.10.1)\n",
            "Requirement already satisfied: audioread>=2.1.9 in /usr/local/lib/python3.10/dist-packages (from librosa) (3.0.1)\n",
            "Requirement already satisfied: numpy!=1.22.0,!=1.22.1,!=1.22.2,>=1.20.3 in /usr/local/lib/python3.10/dist-packages (from librosa) (1.23.5)\n",
            "Requirement already satisfied: scipy>=1.2.0 in /usr/local/lib/python3.10/dist-packages (from librosa) (1.11.4)\n",
            "Requirement already satisfied: scikit-learn>=0.20.0 in /usr/local/lib/python3.10/dist-packages (from librosa) (1.2.2)\n",
            "Requirement already satisfied: joblib>=0.14 in /usr/local/lib/python3.10/dist-packages (from librosa) (1.3.2)\n",
            "Requirement already satisfied: decorator>=4.3.0 in /usr/local/lib/python3.10/dist-packages (from librosa) (4.4.2)\n",
            "Requirement already satisfied: numba>=0.51.0 in /usr/local/lib/python3.10/dist-packages (from librosa) (0.58.1)\n",
            "Requirement already satisfied: soundfile>=0.12.1 in /usr/local/lib/python3.10/dist-packages (from librosa) (0.12.1)\n",
            "Requirement already satisfied: pooch>=1.0 in /usr/local/lib/python3.10/dist-packages (from librosa) (1.8.0)\n",
            "Requirement already satisfied: soxr>=0.3.2 in /usr/local/lib/python3.10/dist-packages (from librosa) (0.3.7)\n",
            "Requirement already satisfied: typing-extensions>=4.1.1 in /usr/local/lib/python3.10/dist-packages (from librosa) (4.5.0)\n",
            "Requirement already satisfied: lazy-loader>=0.1 in /usr/local/lib/python3.10/dist-packages (from librosa) (0.3)\n",
            "Requirement already satisfied: msgpack>=1.0 in /usr/local/lib/python3.10/dist-packages (from librosa) (1.0.7)\n",
            "Requirement already satisfied: llvmlite<0.42,>=0.41.0dev0 in /usr/local/lib/python3.10/dist-packages (from numba>=0.51.0->librosa) (0.41.1)\n",
            "Requirement already satisfied: platformdirs>=2.5.0 in /usr/local/lib/python3.10/dist-packages (from pooch>=1.0->librosa) (4.1.0)\n",
            "Requirement already satisfied: packaging>=20.0 in /usr/local/lib/python3.10/dist-packages (from pooch>=1.0->librosa) (23.2)\n",
            "Requirement already satisfied: requests>=2.19.0 in /usr/local/lib/python3.10/dist-packages (from pooch>=1.0->librosa) (2.31.0)\n",
            "Requirement already satisfied: threadpoolctl>=2.0.0 in /usr/local/lib/python3.10/dist-packages (from scikit-learn>=0.20.0->librosa) (3.2.0)\n",
            "Requirement already satisfied: cffi>=1.0 in /usr/local/lib/python3.10/dist-packages (from soundfile>=0.12.1->librosa) (1.16.0)\n",
            "Requirement already satisfied: pycparser in /usr/local/lib/python3.10/dist-packages (from cffi>=1.0->soundfile>=0.12.1->librosa) (2.21)\n",
            "Requirement already satisfied: charset-normalizer<4,>=2 in /usr/local/lib/python3.10/dist-packages (from requests>=2.19.0->pooch>=1.0->librosa) (3.3.2)\n",
            "Requirement already satisfied: idna<4,>=2.5 in /usr/local/lib/python3.10/dist-packages (from requests>=2.19.0->pooch>=1.0->librosa) (3.6)\n",
            "Requirement already satisfied: urllib3<3,>=1.21.1 in /usr/local/lib/python3.10/dist-packages (from requests>=2.19.0->pooch>=1.0->librosa) (2.0.7)\n",
            "Requirement already satisfied: certifi>=2017.4.17 in /usr/local/lib/python3.10/dist-packages (from requests>=2.19.0->pooch>=1.0->librosa) (2023.11.17)\n"
          ]
        }
      ]
    },
    {
      "cell_type": "code",
      "source": [
        "# Before\n",
        "result = old_function(parameters)\n",
        "\n",
        "# After\n",
        "result = new_function(parameters)"
      ],
      "metadata": {
        "id": "8O1yk-Kph7S3"
      },
      "execution_count": null,
      "outputs": []
    },
    {
      "cell_type": "code",
      "source": [
        "extracted_features_df=pd.DataFrame(extracted_features, columns=['feature', 'class'])\n",
        "\n",
        "extracted_features_df.head()"
      ],
      "metadata": {
        "colab": {
          "base_uri": "https://localhost:8080/",
          "height": 206
        },
        "id": "4bCaX0yUmfYu",
        "outputId": "89c3507f-b9dd-4969-dce7-b04d7c391a13"
      },
      "execution_count": null,
      "outputs": [
        {
          "output_type": "execute_result",
          "data": {
            "text/plain": [
              "                                             feature  class\n",
              "0  [-113.59882, 121.57067, -19.162262, 42.36394, ...  blues\n",
              "1  [-207.52383, 123.98514, 8.94702, 35.86715, 2.9...  blues\n",
              "2  [-90.757164, 140.44087, -29.084547, 31.686693,...  blues\n",
              "3  [-199.57513, 150.0861, 5.663404, 26.855282, 1....  blues\n",
              "4  [-160.35417, 126.20948, -35.581394, 22.139256,...  blues"
            ],
            "text/html": [
              "\n",
              "  <div id=\"df-7340e430-f3e3-44cc-9430-2a123ef3907b\" class=\"colab-df-container\">\n",
              "    <div>\n",
              "<style scoped>\n",
              "    .dataframe tbody tr th:only-of-type {\n",
              "        vertical-align: middle;\n",
              "    }\n",
              "\n",
              "    .dataframe tbody tr th {\n",
              "        vertical-align: top;\n",
              "    }\n",
              "\n",
              "    .dataframe thead th {\n",
              "        text-align: right;\n",
              "    }\n",
              "</style>\n",
              "<table border=\"1\" class=\"dataframe\">\n",
              "  <thead>\n",
              "    <tr style=\"text-align: right;\">\n",
              "      <th></th>\n",
              "      <th>feature</th>\n",
              "      <th>class</th>\n",
              "    </tr>\n",
              "  </thead>\n",
              "  <tbody>\n",
              "    <tr>\n",
              "      <th>0</th>\n",
              "      <td>[-113.59882, 121.57067, -19.162262, 42.36394, ...</td>\n",
              "      <td>blues</td>\n",
              "    </tr>\n",
              "    <tr>\n",
              "      <th>1</th>\n",
              "      <td>[-207.52383, 123.98514, 8.94702, 35.86715, 2.9...</td>\n",
              "      <td>blues</td>\n",
              "    </tr>\n",
              "    <tr>\n",
              "      <th>2</th>\n",
              "      <td>[-90.757164, 140.44087, -29.084547, 31.686693,...</td>\n",
              "      <td>blues</td>\n",
              "    </tr>\n",
              "    <tr>\n",
              "      <th>3</th>\n",
              "      <td>[-199.57513, 150.0861, 5.663404, 26.855282, 1....</td>\n",
              "      <td>blues</td>\n",
              "    </tr>\n",
              "    <tr>\n",
              "      <th>4</th>\n",
              "      <td>[-160.35417, 126.20948, -35.581394, 22.139256,...</td>\n",
              "      <td>blues</td>\n",
              "    </tr>\n",
              "  </tbody>\n",
              "</table>\n",
              "</div>\n",
              "    <div class=\"colab-df-buttons\">\n",
              "\n",
              "  <div class=\"colab-df-container\">\n",
              "    <button class=\"colab-df-convert\" onclick=\"convertToInteractive('df-7340e430-f3e3-44cc-9430-2a123ef3907b')\"\n",
              "            title=\"Convert this dataframe to an interactive table.\"\n",
              "            style=\"display:none;\">\n",
              "\n",
              "  <svg xmlns=\"http://www.w3.org/2000/svg\" height=\"24px\" viewBox=\"0 -960 960 960\">\n",
              "    <path d=\"M120-120v-720h720v720H120Zm60-500h600v-160H180v160Zm220 220h160v-160H400v160Zm0 220h160v-160H400v160ZM180-400h160v-160H180v160Zm440 0h160v-160H620v160ZM180-180h160v-160H180v160Zm440 0h160v-160H620v160Z\"/>\n",
              "  </svg>\n",
              "    </button>\n",
              "\n",
              "  <style>\n",
              "    .colab-df-container {\n",
              "      display:flex;\n",
              "      gap: 12px;\n",
              "    }\n",
              "\n",
              "    .colab-df-convert {\n",
              "      background-color: #E8F0FE;\n",
              "      border: none;\n",
              "      border-radius: 50%;\n",
              "      cursor: pointer;\n",
              "      display: none;\n",
              "      fill: #1967D2;\n",
              "      height: 32px;\n",
              "      padding: 0 0 0 0;\n",
              "      width: 32px;\n",
              "    }\n",
              "\n",
              "    .colab-df-convert:hover {\n",
              "      background-color: #E2EBFA;\n",
              "      box-shadow: 0px 1px 2px rgba(60, 64, 67, 0.3), 0px 1px 3px 1px rgba(60, 64, 67, 0.15);\n",
              "      fill: #174EA6;\n",
              "    }\n",
              "\n",
              "    .colab-df-buttons div {\n",
              "      margin-bottom: 4px;\n",
              "    }\n",
              "\n",
              "    [theme=dark] .colab-df-convert {\n",
              "      background-color: #3B4455;\n",
              "      fill: #D2E3FC;\n",
              "    }\n",
              "\n",
              "    [theme=dark] .colab-df-convert:hover {\n",
              "      background-color: #434B5C;\n",
              "      box-shadow: 0px 1px 3px 1px rgba(0, 0, 0, 0.15);\n",
              "      filter: drop-shadow(0px 1px 2px rgba(0, 0, 0, 0.3));\n",
              "      fill: #FFFFFF;\n",
              "    }\n",
              "  </style>\n",
              "\n",
              "    <script>\n",
              "      const buttonEl =\n",
              "        document.querySelector('#df-7340e430-f3e3-44cc-9430-2a123ef3907b button.colab-df-convert');\n",
              "      buttonEl.style.display =\n",
              "        google.colab.kernel.accessAllowed ? 'block' : 'none';\n",
              "\n",
              "      async function convertToInteractive(key) {\n",
              "        const element = document.querySelector('#df-7340e430-f3e3-44cc-9430-2a123ef3907b');\n",
              "        const dataTable =\n",
              "          await google.colab.kernel.invokeFunction('convertToInteractive',\n",
              "                                                    [key], {});\n",
              "        if (!dataTable) return;\n",
              "\n",
              "        const docLinkHtml = 'Like what you see? Visit the ' +\n",
              "          '<a target=\"_blank\" href=https://colab.research.google.com/notebooks/data_table.ipynb>data table notebook</a>'\n",
              "          + ' to learn more about interactive tables.';\n",
              "        element.innerHTML = '';\n",
              "        dataTable['output_type'] = 'display_data';\n",
              "        await google.colab.output.renderOutput(dataTable, element);\n",
              "        const docLink = document.createElement('div');\n",
              "        docLink.innerHTML = docLinkHtml;\n",
              "        element.appendChild(docLink);\n",
              "      }\n",
              "    </script>\n",
              "  </div>\n",
              "\n",
              "\n",
              "<div id=\"df-e2937e39-afcf-4d55-a9bb-b9951c004543\">\n",
              "  <button class=\"colab-df-quickchart\" onclick=\"quickchart('df-e2937e39-afcf-4d55-a9bb-b9951c004543')\"\n",
              "            title=\"Suggest charts\"\n",
              "            style=\"display:none;\">\n",
              "\n",
              "<svg xmlns=\"http://www.w3.org/2000/svg\" height=\"24px\"viewBox=\"0 0 24 24\"\n",
              "     width=\"24px\">\n",
              "    <g>\n",
              "        <path d=\"M19 3H5c-1.1 0-2 .9-2 2v14c0 1.1.9 2 2 2h14c1.1 0 2-.9 2-2V5c0-1.1-.9-2-2-2zM9 17H7v-7h2v7zm4 0h-2V7h2v10zm4 0h-2v-4h2v4z\"/>\n",
              "    </g>\n",
              "</svg>\n",
              "  </button>\n",
              "\n",
              "<style>\n",
              "  .colab-df-quickchart {\n",
              "      --bg-color: #E8F0FE;\n",
              "      --fill-color: #1967D2;\n",
              "      --hover-bg-color: #E2EBFA;\n",
              "      --hover-fill-color: #174EA6;\n",
              "      --disabled-fill-color: #AAA;\n",
              "      --disabled-bg-color: #DDD;\n",
              "  }\n",
              "\n",
              "  [theme=dark] .colab-df-quickchart {\n",
              "      --bg-color: #3B4455;\n",
              "      --fill-color: #D2E3FC;\n",
              "      --hover-bg-color: #434B5C;\n",
              "      --hover-fill-color: #FFFFFF;\n",
              "      --disabled-bg-color: #3B4455;\n",
              "      --disabled-fill-color: #666;\n",
              "  }\n",
              "\n",
              "  .colab-df-quickchart {\n",
              "    background-color: var(--bg-color);\n",
              "    border: none;\n",
              "    border-radius: 50%;\n",
              "    cursor: pointer;\n",
              "    display: none;\n",
              "    fill: var(--fill-color);\n",
              "    height: 32px;\n",
              "    padding: 0;\n",
              "    width: 32px;\n",
              "  }\n",
              "\n",
              "  .colab-df-quickchart:hover {\n",
              "    background-color: var(--hover-bg-color);\n",
              "    box-shadow: 0 1px 2px rgba(60, 64, 67, 0.3), 0 1px 3px 1px rgba(60, 64, 67, 0.15);\n",
              "    fill: var(--button-hover-fill-color);\n",
              "  }\n",
              "\n",
              "  .colab-df-quickchart-complete:disabled,\n",
              "  .colab-df-quickchart-complete:disabled:hover {\n",
              "    background-color: var(--disabled-bg-color);\n",
              "    fill: var(--disabled-fill-color);\n",
              "    box-shadow: none;\n",
              "  }\n",
              "\n",
              "  .colab-df-spinner {\n",
              "    border: 2px solid var(--fill-color);\n",
              "    border-color: transparent;\n",
              "    border-bottom-color: var(--fill-color);\n",
              "    animation:\n",
              "      spin 1s steps(1) infinite;\n",
              "  }\n",
              "\n",
              "  @keyframes spin {\n",
              "    0% {\n",
              "      border-color: transparent;\n",
              "      border-bottom-color: var(--fill-color);\n",
              "      border-left-color: var(--fill-color);\n",
              "    }\n",
              "    20% {\n",
              "      border-color: transparent;\n",
              "      border-left-color: var(--fill-color);\n",
              "      border-top-color: var(--fill-color);\n",
              "    }\n",
              "    30% {\n",
              "      border-color: transparent;\n",
              "      border-left-color: var(--fill-color);\n",
              "      border-top-color: var(--fill-color);\n",
              "      border-right-color: var(--fill-color);\n",
              "    }\n",
              "    40% {\n",
              "      border-color: transparent;\n",
              "      border-right-color: var(--fill-color);\n",
              "      border-top-color: var(--fill-color);\n",
              "    }\n",
              "    60% {\n",
              "      border-color: transparent;\n",
              "      border-right-color: var(--fill-color);\n",
              "    }\n",
              "    80% {\n",
              "      border-color: transparent;\n",
              "      border-right-color: var(--fill-color);\n",
              "      border-bottom-color: var(--fill-color);\n",
              "    }\n",
              "    90% {\n",
              "      border-color: transparent;\n",
              "      border-bottom-color: var(--fill-color);\n",
              "    }\n",
              "  }\n",
              "</style>\n",
              "\n",
              "  <script>\n",
              "    async function quickchart(key) {\n",
              "      const quickchartButtonEl =\n",
              "        document.querySelector('#' + key + ' button');\n",
              "      quickchartButtonEl.disabled = true;  // To prevent multiple clicks.\n",
              "      quickchartButtonEl.classList.add('colab-df-spinner');\n",
              "      try {\n",
              "        const charts = await google.colab.kernel.invokeFunction(\n",
              "            'suggestCharts', [key], {});\n",
              "      } catch (error) {\n",
              "        console.error('Error during call to suggestCharts:', error);\n",
              "      }\n",
              "      quickchartButtonEl.classList.remove('colab-df-spinner');\n",
              "      quickchartButtonEl.classList.add('colab-df-quickchart-complete');\n",
              "    }\n",
              "    (() => {\n",
              "      let quickchartButtonEl =\n",
              "        document.querySelector('#df-e2937e39-afcf-4d55-a9bb-b9951c004543 button');\n",
              "      quickchartButtonEl.style.display =\n",
              "        google.colab.kernel.accessAllowed ? 'block' : 'none';\n",
              "    })();\n",
              "  </script>\n",
              "</div>\n",
              "\n",
              "    </div>\n",
              "  </div>\n"
            ]
          },
          "metadata": {},
          "execution_count": 17
        }
      ]
    },
    {
      "cell_type": "code",
      "source": [
        "extracted_features_df['class'].value_counts()"
      ],
      "metadata": {
        "colab": {
          "base_uri": "https://localhost:8080/"
        },
        "id": "VdyU6ib3mzmY",
        "outputId": "e707225d-9f85-443c-8d31-006a54c82b4b"
      },
      "execution_count": null,
      "outputs": [
        {
          "output_type": "execute_result",
          "data": {
            "text/plain": [
              "blues        100\n",
              "classical    100\n",
              "country      100\n",
              "disco        100\n",
              "hiphop       100\n",
              "metal        100\n",
              "pop          100\n",
              "reggae       100\n",
              "rock         100\n",
              "jazz          98\n",
              "Name: class, dtype: int64"
            ]
          },
          "metadata": {},
          "execution_count": 18
        }
      ]
    },
    {
      "cell_type": "code",
      "source": [
        "x=np.array(extracted_features_df['feature'].tolist())\n",
        "y=np.array(extracted_features_df['class'].tolist())"
      ],
      "metadata": {
        "id": "n_Jz2Ob1nDP6"
      },
      "execution_count": null,
      "outputs": []
    },
    {
      "cell_type": "code",
      "source": [
        "x.shape"
      ],
      "metadata": {
        "colab": {
          "base_uri": "https://localhost:8080/"
        },
        "id": "yiWG_RE2ndwV",
        "outputId": "69f383ba-bacc-4a1c-aa2f-8066fda30f89"
      },
      "execution_count": null,
      "outputs": [
        {
          "output_type": "execute_result",
          "data": {
            "text/plain": [
              "(998, 40)"
            ]
          },
          "metadata": {},
          "execution_count": 20
        }
      ]
    },
    {
      "cell_type": "code",
      "source": [
        "from tensorflow.keras.utils import to_categorical\n",
        "from sklearn.preprocessing import LabelEncoder\n",
        "labelencoder=LabelEncoder()\n",
        "y=to_categorical(labelencoder.fit_transform(y))"
      ],
      "metadata": {
        "id": "6C9ahXYRnuzZ"
      },
      "execution_count": null,
      "outputs": []
    },
    {
      "cell_type": "code",
      "source": [
        "y.shape\n"
      ],
      "metadata": {
        "colab": {
          "base_uri": "https://localhost:8080/"
        },
        "id": "LSFcve5Mn-q_",
        "outputId": "1bd6b1db-9f9c-4b7f-d48e-e4f7fe18b9e0"
      },
      "execution_count": null,
      "outputs": [
        {
          "output_type": "execute_result",
          "data": {
            "text/plain": [
              "(998, 10)"
            ]
          },
          "metadata": {},
          "execution_count": 24
        }
      ]
    },
    {
      "cell_type": "code",
      "source": [
        "from sklearn.model_selection import train_test_split\n",
        "\n",
        "x_train,x_test,y_train,y_test=train_test_split(x,y,test_size=0.2,random_state=0)"
      ],
      "metadata": {
        "id": "Mhr9He5poFoV"
      },
      "execution_count": null,
      "outputs": []
    },
    {
      "cell_type": "code",
      "source": [
        "x_train"
      ],
      "metadata": {
        "colab": {
          "base_uri": "https://localhost:8080/"
        },
        "id": "LH7UWLQLo5qP",
        "outputId": "90e5cc44-618f-48d2-93e3-453cfd9c740a"
      },
      "execution_count": null,
      "outputs": [
        {
          "output_type": "execute_result",
          "data": {
            "text/plain": [
              "array([[-1.04723763e+02,  8.77537155e+01, -3.32488594e+01, ...,\n",
              "        -2.38248777e+00, -1.36347139e+00, -7.22123504e-01],\n",
              "       [-2.59909851e+02,  1.23193169e+02, -6.39508581e+00, ...,\n",
              "        -6.73697758e+00, -3.90829611e+00,  3.18117642e+00],\n",
              "       [-1.15755066e+02,  6.70791245e+01,  1.88346851e+00, ...,\n",
              "        -3.43661404e+00, -1.73870683e+00, -4.68738452e-02],\n",
              "       ...,\n",
              "       [-1.25020428e+01,  9.13173676e+01, -2.30759563e+01, ...,\n",
              "        -4.04763985e+00, -1.77685583e+00, -1.75431299e+00],\n",
              "       [-2.37930965e+01,  8.29835587e+01,  2.32049274e+00, ...,\n",
              "         1.40550280e+00,  4.16220456e-01, -3.45980562e-02],\n",
              "       [-9.63197021e+01,  9.09497147e+01, -3.22195396e+01, ...,\n",
              "        -2.41483903e+00, -1.62698299e-01, -1.84749973e+00]], dtype=float32)"
            ]
          },
          "metadata": {},
          "execution_count": 27
        }
      ]
    },
    {
      "cell_type": "code",
      "source": [
        "print(x_train.shape)\n",
        "print(x_test.shape)\n",
        "print(y_train.shape)\n",
        "print(y_test.shape)"
      ],
      "metadata": {
        "colab": {
          "base_uri": "https://localhost:8080/"
        },
        "id": "_o0f1yc1pBdW",
        "outputId": "7c2c59d0-806c-4fa5-a851-433f195edaa5"
      },
      "execution_count": null,
      "outputs": [
        {
          "output_type": "stream",
          "name": "stdout",
          "text": [
            "(798, 40)\n",
            "(200, 40)\n",
            "(798, 10)\n",
            "(200, 10)\n"
          ]
        }
      ]
    },
    {
      "cell_type": "code",
      "source": [
        "import tensorflow as tf\n",
        "print(tf.__version__)"
      ],
      "metadata": {
        "colab": {
          "base_uri": "https://localhost:8080/"
        },
        "id": "b8sqMMdapZtH",
        "outputId": "8a213a26-f245-4476-b2aa-1dccfb032787"
      },
      "execution_count": null,
      "outputs": [
        {
          "output_type": "stream",
          "name": "stdout",
          "text": [
            "2.14.0\n"
          ]
        }
      ]
    },
    {
      "cell_type": "code",
      "source": [
        "from tensorflow.keras.models import Sequential\n",
        "from tensorflow.keras.layers import Dense, Dropout, Activation, Flatten\n",
        "from tensorflow.keras.optimizers import Adam\n",
        "from sklearn import metrics"
      ],
      "metadata": {
        "id": "A5IAcontp3Y-"
      },
      "execution_count": null,
      "outputs": []
    },
    {
      "cell_type": "code",
      "source": [
        "num_labels=y.shape[1]"
      ],
      "metadata": {
        "id": "k9LM1cF9p3hd"
      },
      "execution_count": null,
      "outputs": []
    },
    {
      "cell_type": "code",
      "source": [
        "model=Sequential()\n",
        "model.add(Dense(1024,input_shape=(40,), activation=\"relu\"))\n",
        "model.add(Dropout(0.3))\n",
        "model.add(Dense (512, activation=\"relu\"))\n",
        "model.add(Dropout(0.3))\n",
        "model.add(Dense(256, activation=\"relu\"))\n",
        "model.add(Dropout(0.3))\n",
        "model.add(Dense(128, activation=\"relu\"))\n",
        "model.add(Dropout (0.3))\n",
        "model.add(Dense(64, activation=\"relu\"))\n",
        "model.add(Dropout (0.3))\n",
        "model.add(Dense(32, activation=\"relu\"))\n",
        "model.add(Dropout (0.3))\n",
        "\n",
        "###final layer\n",
        "model.add(Dense(num_labels, activation=\"softmax\"))"
      ],
      "metadata": {
        "id": "pwjDJD0rqQZL"
      },
      "execution_count": null,
      "outputs": []
    },
    {
      "cell_type": "code",
      "source": [
        "model.summary()"
      ],
      "metadata": {
        "colab": {
          "base_uri": "https://localhost:8080/"
        },
        "id": "KH3KSuA8qQcK",
        "outputId": "fb6a50b3-f94e-4488-ecb6-b66d2274ab55"
      },
      "execution_count": null,
      "outputs": [
        {
          "output_type": "stream",
          "name": "stdout",
          "text": [
            "Model: \"sequential_1\"\n",
            "_________________________________________________________________\n",
            " Layer (type)                Output Shape              Param #   \n",
            "=================================================================\n",
            " dense_4 (Dense)             (None, 1024)              41984     \n",
            "                                                                 \n",
            " dropout_4 (Dropout)         (None, 1024)              0         \n",
            "                                                                 \n",
            " dense_5 (Dense)             (None, 512)               524800    \n",
            "                                                                 \n",
            " dropout_5 (Dropout)         (None, 512)               0         \n",
            "                                                                 \n",
            " dense_6 (Dense)             (None, 256)               131328    \n",
            "                                                                 \n",
            " dropout_6 (Dropout)         (None, 256)               0         \n",
            "                                                                 \n",
            " dense_7 (Dense)             (None, 128)               32896     \n",
            "                                                                 \n",
            " dropout_7 (Dropout)         (None, 128)               0         \n",
            "                                                                 \n",
            " dense_8 (Dense)             (None, 64)                8256      \n",
            "                                                                 \n",
            " dropout_8 (Dropout)         (None, 64)                0         \n",
            "                                                                 \n",
            " dense_9 (Dense)             (None, 32)                2080      \n",
            "                                                                 \n",
            " dropout_9 (Dropout)         (None, 32)                0         \n",
            "                                                                 \n",
            " dense_10 (Dense)            (None, 10)                330       \n",
            "                                                                 \n",
            "=================================================================\n",
            "Total params: 741674 (2.83 MB)\n",
            "Trainable params: 741674 (2.83 MB)\n",
            "Non-trainable params: 0 (0.00 Byte)\n",
            "_________________________________________________________________\n"
          ]
        }
      ]
    },
    {
      "cell_type": "code",
      "source": [
        "model.compile(loss='categorical_crossentropy',metrics=['accuracy'],optimizer=\"adam\")"
      ],
      "metadata": {
        "id": "5wKY97a0rPA7"
      },
      "execution_count": null,
      "outputs": []
    },
    {
      "cell_type": "code",
      "source": [
        "import time\n",
        "t=time.localtime()\n",
        "current_time=time.strftime(\"%H:%M:%S\", t)"
      ],
      "metadata": {
        "id": "wH58O8CusPBd"
      },
      "execution_count": null,
      "outputs": []
    },
    {
      "cell_type": "code",
      "source": [
        "## Trianing my model\n",
        "\n",
        "from tensorflow.keras.callbacks import ModelCheckpoint\n",
        "\n",
        "from datetime import datetime\n",
        "\n",
        "num_epochs = 100\n",
        "\n",
        "num_batch_size = 32\n",
        "\n",
        "checkpointer = ModelCheckpoint(filepath=f'saved_models/audio_classification_{current_time}.hdf5',\n",
        "                               verbose=1, save_best_only=True)\n",
        "\n",
        "start=datetime.now()\n",
        "\n",
        "history=model.fit(x_train, y_train, batch_size=num_batch_size, epochs=num_epochs, validation_data=(x_test, y_test), callbacks=[checkpointer], verbose=1)\n",
        "\n",
        "duration = datetime.now()-start\n",
        "\n",
        "print(\"Training completed in time: \", duration)"
      ],
      "metadata": {
        "colab": {
          "base_uri": "https://localhost:8080/"
        },
        "id": "O0zLD-WusPEW",
        "outputId": "a972ef83-3597-4921-ccdc-42951af5ee74"
      },
      "execution_count": null,
      "outputs": [
        {
          "output_type": "stream",
          "name": "stdout",
          "text": [
            "Epoch 1/100\n",
            "23/25 [==========================>...] - ETA: 0s - loss: 4.3093 - accuracy: 0.1087\n",
            "Epoch 1: val_loss improved from inf to 2.30768, saving model to saved_models/audio_classification_08:31:04.hdf5\n",
            "25/25 [==============================] - 3s 45ms/step - loss: 4.2185 - accuracy: 0.1115 - val_loss: 2.3077 - val_accuracy: 0.1050\n",
            "Epoch 2/100\n",
            " 1/25 [>.............................] - ETA: 0s - loss: 2.5034 - accuracy: 0.1875"
          ]
        },
        {
          "output_type": "stream",
          "name": "stderr",
          "text": [
            "/usr/local/lib/python3.10/dist-packages/keras/src/engine/training.py:3079: UserWarning: You are saving your model as an HDF5 file via `model.save()`. This file format is considered legacy. We recommend using instead the native Keras format, e.g. `model.save('my_model.keras')`.\n",
            "  saving_api.save_model(\n"
          ]
        },
        {
          "output_type": "stream",
          "name": "stdout",
          "text": [
            "25/25 [==============================] - ETA: 0s - loss: 2.6546 - accuracy: 0.1040\n",
            "Epoch 2: val_loss improved from 2.30768 to 2.28806, saving model to saved_models/audio_classification_08:31:04.hdf5\n",
            "25/25 [==============================] - 1s 31ms/step - loss: 2.6546 - accuracy: 0.1040 - val_loss: 2.2881 - val_accuracy: 0.1050\n",
            "Epoch 3/100\n",
            "23/25 [==========================>...] - ETA: 0s - loss: 2.4009 - accuracy: 0.1168\n",
            "Epoch 3: val_loss improved from 2.28806 to 2.25176, saving model to saved_models/audio_classification_08:31:04.hdf5\n",
            "25/25 [==============================] - 1s 32ms/step - loss: 2.3996 - accuracy: 0.1190 - val_loss: 2.2518 - val_accuracy: 0.1050\n",
            "Epoch 4/100\n",
            "24/25 [===========================>..] - ETA: 0s - loss: 2.4012 - accuracy: 0.1263\n",
            "Epoch 4: val_loss improved from 2.25176 to 2.20576, saving model to saved_models/audio_classification_08:31:04.hdf5\n",
            "25/25 [==============================] - 1s 31ms/step - loss: 2.4003 - accuracy: 0.1291 - val_loss: 2.2058 - val_accuracy: 0.2100\n",
            "Epoch 5/100\n",
            "24/25 [===========================>..] - ETA: 0s - loss: 2.3164 - accuracy: 0.1406\n",
            "Epoch 5: val_loss did not improve from 2.20576\n",
            "25/25 [==============================] - 1s 25ms/step - loss: 2.3082 - accuracy: 0.1454 - val_loss: 2.2216 - val_accuracy: 0.1200\n",
            "Epoch 6/100\n",
            "24/25 [===========================>..] - ETA: 0s - loss: 2.2691 - accuracy: 0.1562\n",
            "Epoch 6: val_loss improved from 2.20576 to 2.12147, saving model to saved_models/audio_classification_08:31:04.hdf5\n",
            "25/25 [==============================] - 1s 29ms/step - loss: 2.2707 - accuracy: 0.1566 - val_loss: 2.1215 - val_accuracy: 0.2150\n",
            "Epoch 7/100\n",
            "25/25 [==============================] - ETA: 0s - loss: 2.2198 - accuracy: 0.1729\n",
            "Epoch 7: val_loss improved from 2.12147 to 2.06323, saving model to saved_models/audio_classification_08:31:04.hdf5\n",
            "25/25 [==============================] - 1s 31ms/step - loss: 2.2198 - accuracy: 0.1729 - val_loss: 2.0632 - val_accuracy: 0.2650\n",
            "Epoch 8/100\n",
            "24/25 [===========================>..] - ETA: 0s - loss: 2.2190 - accuracy: 0.1680\n",
            "Epoch 8: val_loss improved from 2.06323 to 2.05074, saving model to saved_models/audio_classification_08:31:04.hdf5\n",
            "25/25 [==============================] - 1s 31ms/step - loss: 2.2197 - accuracy: 0.1654 - val_loss: 2.0507 - val_accuracy: 0.2200\n",
            "Epoch 9/100\n",
            "25/25 [==============================] - ETA: 0s - loss: 2.1605 - accuracy: 0.1980\n",
            "Epoch 9: val_loss improved from 2.05074 to 2.03523, saving model to saved_models/audio_classification_08:31:04.hdf5\n",
            "25/25 [==============================] - 1s 21ms/step - loss: 2.1605 - accuracy: 0.1980 - val_loss: 2.0352 - val_accuracy: 0.2400\n",
            "Epoch 10/100\n",
            "25/25 [==============================] - ETA: 0s - loss: 2.1471 - accuracy: 0.1905\n",
            "Epoch 10: val_loss improved from 2.03523 to 1.99099, saving model to saved_models/audio_classification_08:31:04.hdf5\n",
            "25/25 [==============================] - 1s 23ms/step - loss: 2.1471 - accuracy: 0.1905 - val_loss: 1.9910 - val_accuracy: 0.2000\n",
            "Epoch 11/100\n",
            "25/25 [==============================] - ETA: 0s - loss: 2.0994 - accuracy: 0.1917\n",
            "Epoch 11: val_loss improved from 1.99099 to 1.98642, saving model to saved_models/audio_classification_08:31:04.hdf5\n",
            "25/25 [==============================] - 1s 22ms/step - loss: 2.0994 - accuracy: 0.1917 - val_loss: 1.9864 - val_accuracy: 0.2100\n",
            "Epoch 12/100\n",
            "25/25 [==============================] - ETA: 0s - loss: 2.0962 - accuracy: 0.2168\n",
            "Epoch 12: val_loss improved from 1.98642 to 1.95627, saving model to saved_models/audio_classification_08:31:04.hdf5\n",
            "25/25 [==============================] - 1s 26ms/step - loss: 2.0962 - accuracy: 0.2168 - val_loss: 1.9563 - val_accuracy: 0.2150\n",
            "Epoch 13/100\n",
            "23/25 [==========================>...] - ETA: 0s - loss: 2.0135 - accuracy: 0.2391\n",
            "Epoch 13: val_loss improved from 1.95627 to 1.95330, saving model to saved_models/audio_classification_08:31:04.hdf5\n",
            "25/25 [==============================] - 1s 22ms/step - loss: 1.9994 - accuracy: 0.2469 - val_loss: 1.9533 - val_accuracy: 0.3250\n",
            "Epoch 14/100\n",
            "25/25 [==============================] - ETA: 0s - loss: 2.0662 - accuracy: 0.2168\n",
            "Epoch 14: val_loss improved from 1.95330 to 1.95275, saving model to saved_models/audio_classification_08:31:04.hdf5\n",
            "25/25 [==============================] - 1s 21ms/step - loss: 2.0662 - accuracy: 0.2168 - val_loss: 1.9527 - val_accuracy: 0.2800\n",
            "Epoch 15/100\n",
            "23/25 [==========================>...] - ETA: 0s - loss: 1.9840 - accuracy: 0.2514\n",
            "Epoch 15: val_loss improved from 1.95275 to 1.88410, saving model to saved_models/audio_classification_08:31:04.hdf5\n",
            "25/25 [==============================] - 1s 21ms/step - loss: 1.9796 - accuracy: 0.2481 - val_loss: 1.8841 - val_accuracy: 0.3200\n",
            "Epoch 16/100\n",
            "24/25 [===========================>..] - ETA: 0s - loss: 1.9677 - accuracy: 0.2565\n",
            "Epoch 16: val_loss improved from 1.88410 to 1.87627, saving model to saved_models/audio_classification_08:31:04.hdf5\n",
            "25/25 [==============================] - 1s 22ms/step - loss: 1.9772 - accuracy: 0.2581 - val_loss: 1.8763 - val_accuracy: 0.3200\n",
            "Epoch 17/100\n",
            "24/25 [===========================>..] - ETA: 0s - loss: 1.9824 - accuracy: 0.2643\n",
            "Epoch 17: val_loss did not improve from 1.87627\n",
            "25/25 [==============================] - 0s 20ms/step - loss: 1.9741 - accuracy: 0.2682 - val_loss: 1.8800 - val_accuracy: 0.3500\n",
            "Epoch 18/100\n",
            "23/25 [==========================>...] - ETA: 0s - loss: 1.9785 - accuracy: 0.2609\n",
            "Epoch 18: val_loss improved from 1.87627 to 1.84160, saving model to saved_models/audio_classification_08:31:04.hdf5\n",
            "25/25 [==============================] - 1s 22ms/step - loss: 1.9691 - accuracy: 0.2744 - val_loss: 1.8416 - val_accuracy: 0.3450\n",
            "Epoch 19/100\n",
            "22/25 [=========================>....] - ETA: 0s - loss: 1.9156 - accuracy: 0.2983\n",
            "Epoch 19: val_loss improved from 1.84160 to 1.77867, saving model to saved_models/audio_classification_08:31:04.hdf5\n",
            "25/25 [==============================] - 1s 24ms/step - loss: 1.9028 - accuracy: 0.2970 - val_loss: 1.7787 - val_accuracy: 0.3700\n",
            "Epoch 20/100\n",
            "25/25 [==============================] - ETA: 0s - loss: 1.8365 - accuracy: 0.3383\n",
            "Epoch 20: val_loss did not improve from 1.77867\n",
            "25/25 [==============================] - 0s 19ms/step - loss: 1.8365 - accuracy: 0.3383 - val_loss: 1.8202 - val_accuracy: 0.3500\n",
            "Epoch 21/100\n",
            "23/25 [==========================>...] - ETA: 0s - loss: 1.8892 - accuracy: 0.2826\n",
            "Epoch 21: val_loss improved from 1.77867 to 1.71799, saving model to saved_models/audio_classification_08:31:04.hdf5\n",
            "25/25 [==============================] - 1s 24ms/step - loss: 1.8950 - accuracy: 0.2857 - val_loss: 1.7180 - val_accuracy: 0.3850\n",
            "Epoch 22/100\n",
            "24/25 [===========================>..] - ETA: 0s - loss: 1.8043 - accuracy: 0.3398\n",
            "Epoch 22: val_loss did not improve from 1.71799\n",
            "25/25 [==============================] - 0s 20ms/step - loss: 1.8201 - accuracy: 0.3383 - val_loss: 1.7306 - val_accuracy: 0.3750\n",
            "Epoch 23/100\n",
            "23/25 [==========================>...] - ETA: 0s - loss: 1.7470 - accuracy: 0.3573\n",
            "Epoch 23: val_loss improved from 1.71799 to 1.65277, saving model to saved_models/audio_classification_08:31:04.hdf5\n",
            "25/25 [==============================] - 1s 22ms/step - loss: 1.7607 - accuracy: 0.3521 - val_loss: 1.6528 - val_accuracy: 0.3600\n",
            "Epoch 24/100\n",
            "22/25 [=========================>....] - ETA: 0s - loss: 1.7397 - accuracy: 0.3651\n",
            "Epoch 24: val_loss did not improve from 1.65277\n",
            "25/25 [==============================] - 1s 20ms/step - loss: 1.7614 - accuracy: 0.3559 - val_loss: 1.7033 - val_accuracy: 0.3700\n",
            "Epoch 25/100\n",
            "23/25 [==========================>...] - ETA: 0s - loss: 1.7478 - accuracy: 0.3573\n",
            "Epoch 25: val_loss improved from 1.65277 to 1.64483, saving model to saved_models/audio_classification_08:31:04.hdf5\n",
            "25/25 [==============================] - 1s 22ms/step - loss: 1.7443 - accuracy: 0.3609 - val_loss: 1.6448 - val_accuracy: 0.4000\n",
            "Epoch 26/100\n",
            "24/25 [===========================>..] - ETA: 0s - loss: 1.7199 - accuracy: 0.3607\n",
            "Epoch 26: val_loss improved from 1.64483 to 1.58441, saving model to saved_models/audio_classification_08:31:04.hdf5\n",
            "25/25 [==============================] - 1s 24ms/step - loss: 1.7241 - accuracy: 0.3584 - val_loss: 1.5844 - val_accuracy: 0.3450\n",
            "Epoch 27/100\n",
            "25/25 [==============================] - ETA: 0s - loss: 1.7409 - accuracy: 0.3471\n",
            "Epoch 27: val_loss did not improve from 1.58441\n",
            "25/25 [==============================] - 1s 28ms/step - loss: 1.7409 - accuracy: 0.3471 - val_loss: 1.6434 - val_accuracy: 0.4150\n",
            "Epoch 28/100\n",
            "24/25 [===========================>..] - ETA: 0s - loss: 1.6860 - accuracy: 0.3789\n",
            "Epoch 28: val_loss did not improve from 1.58441\n",
            "25/25 [==============================] - 1s 27ms/step - loss: 1.6915 - accuracy: 0.3747 - val_loss: 1.5994 - val_accuracy: 0.4200\n",
            "Epoch 29/100\n",
            "25/25 [==============================] - ETA: 0s - loss: 1.6913 - accuracy: 0.3659\n",
            "Epoch 29: val_loss did not improve from 1.58441\n",
            "25/25 [==============================] - 1s 25ms/step - loss: 1.6913 - accuracy: 0.3659 - val_loss: 1.6410 - val_accuracy: 0.3750\n",
            "Epoch 30/100\n",
            "25/25 [==============================] - ETA: 0s - loss: 1.6576 - accuracy: 0.3835\n",
            "Epoch 30: val_loss improved from 1.58441 to 1.57708, saving model to saved_models/audio_classification_08:31:04.hdf5\n",
            "25/25 [==============================] - 1s 31ms/step - loss: 1.6576 - accuracy: 0.3835 - val_loss: 1.5771 - val_accuracy: 0.4350\n",
            "Epoch 31/100\n",
            "25/25 [==============================] - ETA: 0s - loss: 1.6521 - accuracy: 0.3910\n",
            "Epoch 31: val_loss did not improve from 1.57708\n",
            "25/25 [==============================] - 1s 26ms/step - loss: 1.6521 - accuracy: 0.3910 - val_loss: 1.5806 - val_accuracy: 0.4400\n",
            "Epoch 32/100\n",
            "25/25 [==============================] - ETA: 0s - loss: 1.6199 - accuracy: 0.3935\n",
            "Epoch 32: val_loss did not improve from 1.57708\n",
            "25/25 [==============================] - 1s 25ms/step - loss: 1.6199 - accuracy: 0.3935 - val_loss: 1.5910 - val_accuracy: 0.4400\n",
            "Epoch 33/100\n",
            "23/25 [==========================>...] - ETA: 0s - loss: 1.6000 - accuracy: 0.4008\n",
            "Epoch 33: val_loss did not improve from 1.57708\n",
            "25/25 [==============================] - 1s 25ms/step - loss: 1.5777 - accuracy: 0.4110 - val_loss: 1.6225 - val_accuracy: 0.4100\n",
            "Epoch 34/100\n",
            "23/25 [==========================>...] - ETA: 0s - loss: 1.5843 - accuracy: 0.4253\n",
            "Epoch 34: val_loss improved from 1.57708 to 1.56123, saving model to saved_models/audio_classification_08:31:04.hdf5\n",
            "25/25 [==============================] - 1s 32ms/step - loss: 1.5823 - accuracy: 0.4223 - val_loss: 1.5612 - val_accuracy: 0.4350\n",
            "Epoch 35/100\n",
            "22/25 [=========================>....] - ETA: 0s - loss: 1.6007 - accuracy: 0.3935\n",
            "Epoch 35: val_loss did not improve from 1.56123\n",
            "25/25 [==============================] - 1s 26ms/step - loss: 1.5991 - accuracy: 0.3860 - val_loss: 1.5886 - val_accuracy: 0.3950\n",
            "Epoch 36/100\n",
            "23/25 [==========================>...] - ETA: 0s - loss: 1.5587 - accuracy: 0.4076\n",
            "Epoch 36: val_loss did not improve from 1.56123\n",
            "25/25 [==============================] - 0s 19ms/step - loss: 1.5642 - accuracy: 0.4060 - val_loss: 1.5713 - val_accuracy: 0.4450\n",
            "Epoch 37/100\n",
            "25/25 [==============================] - ETA: 0s - loss: 1.5087 - accuracy: 0.4236\n",
            "Epoch 37: val_loss did not improve from 1.56123\n",
            "25/25 [==============================] - 0s 18ms/step - loss: 1.5087 - accuracy: 0.4236 - val_loss: 1.5673 - val_accuracy: 0.4350\n",
            "Epoch 38/100\n",
            "23/25 [==========================>...] - ETA: 0s - loss: 1.5329 - accuracy: 0.4239\n",
            "Epoch 38: val_loss improved from 1.56123 to 1.52278, saving model to saved_models/audio_classification_08:31:04.hdf5\n",
            "25/25 [==============================] - 1s 22ms/step - loss: 1.5539 - accuracy: 0.4185 - val_loss: 1.5228 - val_accuracy: 0.4700\n",
            "Epoch 39/100\n",
            "23/25 [==========================>...] - ETA: 0s - loss: 1.4884 - accuracy: 0.4348\n",
            "Epoch 39: val_loss did not improve from 1.52278\n",
            "25/25 [==============================] - 0s 18ms/step - loss: 1.4834 - accuracy: 0.4348 - val_loss: 1.5282 - val_accuracy: 0.4450\n",
            "Epoch 40/100\n",
            "23/25 [==========================>...] - ETA: 0s - loss: 1.4683 - accuracy: 0.4592\n",
            "Epoch 40: val_loss did not improve from 1.52278\n",
            "25/25 [==============================] - 0s 18ms/step - loss: 1.4702 - accuracy: 0.4549 - val_loss: 1.5550 - val_accuracy: 0.4400\n",
            "Epoch 41/100\n",
            "25/25 [==============================] - ETA: 0s - loss: 1.4877 - accuracy: 0.4561\n",
            "Epoch 41: val_loss improved from 1.52278 to 1.50343, saving model to saved_models/audio_classification_08:31:04.hdf5\n",
            "25/25 [==============================] - 1s 21ms/step - loss: 1.4877 - accuracy: 0.4561 - val_loss: 1.5034 - val_accuracy: 0.4650\n",
            "Epoch 42/100\n",
            "22/25 [=========================>....] - ETA: 0s - loss: 1.3968 - accuracy: 0.4631\n",
            "Epoch 42: val_loss improved from 1.50343 to 1.46323, saving model to saved_models/audio_classification_08:31:04.hdf5\n",
            "25/25 [==============================] - 1s 24ms/step - loss: 1.4261 - accuracy: 0.4599 - val_loss: 1.4632 - val_accuracy: 0.5100\n",
            "Epoch 43/100\n",
            "23/25 [==========================>...] - ETA: 0s - loss: 1.5274 - accuracy: 0.4416\n",
            "Epoch 43: val_loss did not improve from 1.46323\n",
            "25/25 [==============================] - 0s 18ms/step - loss: 1.5436 - accuracy: 0.4348 - val_loss: 1.5331 - val_accuracy: 0.4900\n",
            "Epoch 44/100\n",
            "22/25 [=========================>....] - ETA: 0s - loss: 1.4714 - accuracy: 0.4673\n",
            "Epoch 44: val_loss did not improve from 1.46323\n",
            "25/25 [==============================] - 0s 18ms/step - loss: 1.4497 - accuracy: 0.4749 - val_loss: 1.4837 - val_accuracy: 0.4900\n",
            "Epoch 45/100\n",
            "24/25 [===========================>..] - ETA: 0s - loss: 1.3944 - accuracy: 0.4779\n",
            "Epoch 45: val_loss did not improve from 1.46323\n",
            "25/25 [==============================] - 0s 19ms/step - loss: 1.3983 - accuracy: 0.4749 - val_loss: 1.4828 - val_accuracy: 0.4950\n",
            "Epoch 46/100\n",
            "23/25 [==========================>...] - ETA: 0s - loss: 1.3750 - accuracy: 0.4742\n",
            "Epoch 46: val_loss did not improve from 1.46323\n",
            "25/25 [==============================] - 0s 19ms/step - loss: 1.3696 - accuracy: 0.4749 - val_loss: 1.5295 - val_accuracy: 0.5100\n",
            "Epoch 47/100\n",
            "23/25 [==========================>...] - ETA: 0s - loss: 1.3544 - accuracy: 0.4728\n",
            "Epoch 47: val_loss did not improve from 1.46323\n",
            "25/25 [==============================] - 0s 20ms/step - loss: 1.3714 - accuracy: 0.4712 - val_loss: 1.4954 - val_accuracy: 0.5050\n",
            "Epoch 48/100\n",
            "25/25 [==============================] - ETA: 0s - loss: 1.4187 - accuracy: 0.4850\n",
            "Epoch 48: val_loss did not improve from 1.46323\n",
            "25/25 [==============================] - 0s 18ms/step - loss: 1.4187 - accuracy: 0.4850 - val_loss: 1.5489 - val_accuracy: 0.4950\n",
            "Epoch 49/100\n",
            "24/25 [===========================>..] - ETA: 0s - loss: 1.3390 - accuracy: 0.4935\n",
            "Epoch 49: val_loss did not improve from 1.46323\n",
            "25/25 [==============================] - 0s 18ms/step - loss: 1.3444 - accuracy: 0.4862 - val_loss: 1.4831 - val_accuracy: 0.4850\n",
            "Epoch 50/100\n",
            "25/25 [==============================] - ETA: 0s - loss: 1.3342 - accuracy: 0.5213\n",
            "Epoch 50: val_loss improved from 1.46323 to 1.45698, saving model to saved_models/audio_classification_08:31:04.hdf5\n",
            "25/25 [==============================] - 1s 23ms/step - loss: 1.3342 - accuracy: 0.5213 - val_loss: 1.4570 - val_accuracy: 0.4900\n",
            "Epoch 51/100\n",
            "23/25 [==========================>...] - ETA: 0s - loss: 1.3041 - accuracy: 0.5163\n",
            "Epoch 51: val_loss did not improve from 1.45698\n",
            "25/25 [==============================] - 1s 20ms/step - loss: 1.2860 - accuracy: 0.5263 - val_loss: 1.4612 - val_accuracy: 0.4850\n",
            "Epoch 52/100\n",
            "24/25 [===========================>..] - ETA: 0s - loss: 1.2437 - accuracy: 0.5286\n",
            "Epoch 52: val_loss did not improve from 1.45698\n",
            "25/25 [==============================] - 0s 18ms/step - loss: 1.2545 - accuracy: 0.5213 - val_loss: 1.5073 - val_accuracy: 0.4850\n",
            "Epoch 53/100\n",
            "24/25 [===========================>..] - ETA: 0s - loss: 1.2728 - accuracy: 0.5247\n",
            "Epoch 53: val_loss did not improve from 1.45698\n",
            "25/25 [==============================] - 0s 19ms/step - loss: 1.2856 - accuracy: 0.5201 - val_loss: 1.4978 - val_accuracy: 0.4750\n",
            "Epoch 54/100\n",
            "25/25 [==============================] - ETA: 0s - loss: 1.2838 - accuracy: 0.5201\n",
            "Epoch 54: val_loss did not improve from 1.45698\n",
            "25/25 [==============================] - 0s 18ms/step - loss: 1.2838 - accuracy: 0.5201 - val_loss: 1.5460 - val_accuracy: 0.5250\n",
            "Epoch 55/100\n",
            "23/25 [==========================>...] - ETA: 0s - loss: 1.2416 - accuracy: 0.5693\n",
            "Epoch 55: val_loss did not improve from 1.45698\n",
            "25/25 [==============================] - 0s 20ms/step - loss: 1.2467 - accuracy: 0.5739 - val_loss: 1.5081 - val_accuracy: 0.4650\n",
            "Epoch 56/100\n",
            "24/25 [===========================>..] - ETA: 0s - loss: 1.2839 - accuracy: 0.5286\n",
            "Epoch 56: val_loss did not improve from 1.45698\n",
            "25/25 [==============================] - 1s 26ms/step - loss: 1.2772 - accuracy: 0.5326 - val_loss: 1.5108 - val_accuracy: 0.4800\n",
            "Epoch 57/100\n",
            "23/25 [==========================>...] - ETA: 0s - loss: 1.2521 - accuracy: 0.5272\n",
            "Epoch 57: val_loss did not improve from 1.45698\n",
            "25/25 [==============================] - 1s 27ms/step - loss: 1.2588 - accuracy: 0.5226 - val_loss: 1.5931 - val_accuracy: 0.4500\n",
            "Epoch 58/100\n",
            "23/25 [==========================>...] - ETA: 0s - loss: 1.2182 - accuracy: 0.5625\n",
            "Epoch 58: val_loss improved from 1.45698 to 1.42055, saving model to saved_models/audio_classification_08:31:04.hdf5\n",
            "25/25 [==============================] - 1s 30ms/step - loss: 1.2074 - accuracy: 0.5664 - val_loss: 1.4205 - val_accuracy: 0.5150\n",
            "Epoch 59/100\n",
            "24/25 [===========================>..] - ETA: 0s - loss: 1.1676 - accuracy: 0.5677\n",
            "Epoch 59: val_loss did not improve from 1.42055\n",
            "25/25 [==============================] - 1s 26ms/step - loss: 1.1681 - accuracy: 0.5702 - val_loss: 1.5356 - val_accuracy: 0.4650\n",
            "Epoch 60/100\n",
            "24/25 [===========================>..] - ETA: 0s - loss: 1.1743 - accuracy: 0.5651\n",
            "Epoch 60: val_loss improved from 1.42055 to 1.39798, saving model to saved_models/audio_classification_08:31:04.hdf5\n",
            "25/25 [==============================] - 1s 31ms/step - loss: 1.1744 - accuracy: 0.5664 - val_loss: 1.3980 - val_accuracy: 0.5050\n",
            "Epoch 61/100\n",
            "23/25 [==========================>...] - ETA: 0s - loss: 1.1935 - accuracy: 0.5965\n",
            "Epoch 61: val_loss did not improve from 1.39798\n",
            "25/25 [==============================] - 1s 26ms/step - loss: 1.1947 - accuracy: 0.5915 - val_loss: 1.5973 - val_accuracy: 0.4950\n",
            "Epoch 62/100\n",
            "24/25 [===========================>..] - ETA: 0s - loss: 1.2262 - accuracy: 0.5560\n",
            "Epoch 62: val_loss did not improve from 1.39798\n",
            "25/25 [==============================] - 1s 26ms/step - loss: 1.2193 - accuracy: 0.5614 - val_loss: 1.4231 - val_accuracy: 0.5100\n",
            "Epoch 63/100\n",
            "23/25 [==========================>...] - ETA: 0s - loss: 1.1410 - accuracy: 0.6005\n",
            "Epoch 63: val_loss did not improve from 1.39798\n",
            "25/25 [==============================] - 1s 27ms/step - loss: 1.1399 - accuracy: 0.5990 - val_loss: 1.5607 - val_accuracy: 0.5150\n",
            "Epoch 64/100\n",
            "25/25 [==============================] - ETA: 0s - loss: 1.1671 - accuracy: 0.5865\n",
            "Epoch 64: val_loss improved from 1.39798 to 1.37451, saving model to saved_models/audio_classification_08:31:04.hdf5\n",
            "25/25 [==============================] - 1s 31ms/step - loss: 1.1671 - accuracy: 0.5865 - val_loss: 1.3745 - val_accuracy: 0.5350\n",
            "Epoch 65/100\n",
            "24/25 [===========================>..] - ETA: 0s - loss: 1.0896 - accuracy: 0.6003\n",
            "Epoch 65: val_loss did not improve from 1.37451\n",
            "25/25 [==============================] - 0s 20ms/step - loss: 1.0922 - accuracy: 0.5990 - val_loss: 1.4815 - val_accuracy: 0.5100\n",
            "Epoch 66/100\n",
            "24/25 [===========================>..] - ETA: 0s - loss: 1.0904 - accuracy: 0.6055\n",
            "Epoch 66: val_loss did not improve from 1.37451\n",
            "25/25 [==============================] - 0s 20ms/step - loss: 1.0838 - accuracy: 0.6078 - val_loss: 1.4974 - val_accuracy: 0.5450\n",
            "Epoch 67/100\n",
            "23/25 [==========================>...] - ETA: 0s - loss: 1.1588 - accuracy: 0.5639\n",
            "Epoch 67: val_loss did not improve from 1.37451\n",
            "25/25 [==============================] - 0s 18ms/step - loss: 1.1472 - accuracy: 0.5764 - val_loss: 1.6669 - val_accuracy: 0.5350\n",
            "Epoch 68/100\n",
            "23/25 [==========================>...] - ETA: 0s - loss: 1.1416 - accuracy: 0.5761\n",
            "Epoch 68: val_loss did not improve from 1.37451\n",
            "25/25 [==============================] - 0s 18ms/step - loss: 1.1380 - accuracy: 0.5789 - val_loss: 1.4484 - val_accuracy: 0.5450\n",
            "Epoch 69/100\n",
            "24/25 [===========================>..] - ETA: 0s - loss: 1.1435 - accuracy: 0.5820\n",
            "Epoch 69: val_loss did not improve from 1.37451\n",
            "25/25 [==============================] - 0s 18ms/step - loss: 1.1454 - accuracy: 0.5815 - val_loss: 1.5741 - val_accuracy: 0.5300\n",
            "Epoch 70/100\n",
            "25/25 [==============================] - ETA: 0s - loss: 1.1105 - accuracy: 0.6015\n",
            "Epoch 70: val_loss did not improve from 1.37451\n",
            "25/25 [==============================] - 0s 18ms/step - loss: 1.1105 - accuracy: 0.6015 - val_loss: 1.4546 - val_accuracy: 0.5200\n",
            "Epoch 71/100\n",
            "24/25 [===========================>..] - ETA: 0s - loss: 1.1149 - accuracy: 0.6081\n",
            "Epoch 71: val_loss did not improve from 1.37451\n",
            "25/25 [==============================] - 0s 18ms/step - loss: 1.1129 - accuracy: 0.6090 - val_loss: 1.5312 - val_accuracy: 0.5250\n",
            "Epoch 72/100\n",
            "24/25 [===========================>..] - ETA: 0s - loss: 1.0159 - accuracy: 0.6419\n",
            "Epoch 72: val_loss did not improve from 1.37451\n",
            "25/25 [==============================] - 0s 19ms/step - loss: 1.0052 - accuracy: 0.6479 - val_loss: 1.5066 - val_accuracy: 0.5450\n",
            "Epoch 73/100\n",
            "22/25 [=========================>....] - ETA: 0s - loss: 1.0374 - accuracy: 0.6307\n",
            "Epoch 73: val_loss did not improve from 1.37451\n",
            "25/25 [==============================] - 0s 20ms/step - loss: 1.0381 - accuracy: 0.6303 - val_loss: 1.5005 - val_accuracy: 0.5000\n",
            "Epoch 74/100\n",
            "25/25 [==============================] - ETA: 0s - loss: 1.0274 - accuracy: 0.6366\n",
            "Epoch 74: val_loss did not improve from 1.37451\n",
            "25/25 [==============================] - 0s 19ms/step - loss: 1.0274 - accuracy: 0.6366 - val_loss: 1.5167 - val_accuracy: 0.5700\n",
            "Epoch 75/100\n",
            "24/25 [===========================>..] - ETA: 0s - loss: 0.9893 - accuracy: 0.6510\n",
            "Epoch 75: val_loss did not improve from 1.37451\n",
            "25/25 [==============================] - 0s 18ms/step - loss: 0.9902 - accuracy: 0.6504 - val_loss: 1.5474 - val_accuracy: 0.5800\n",
            "Epoch 76/100\n",
            "24/25 [===========================>..] - ETA: 0s - loss: 1.0667 - accuracy: 0.6328\n",
            "Epoch 76: val_loss did not improve from 1.37451\n",
            "25/25 [==============================] - 0s 18ms/step - loss: 1.0628 - accuracy: 0.6303 - val_loss: 1.5582 - val_accuracy: 0.5100\n",
            "Epoch 77/100\n",
            "23/25 [==========================>...] - ETA: 0s - loss: 1.0254 - accuracy: 0.6399\n",
            "Epoch 77: val_loss did not improve from 1.37451\n",
            "25/25 [==============================] - 1s 20ms/step - loss: 1.0246 - accuracy: 0.6378 - val_loss: 1.5815 - val_accuracy: 0.5450\n",
            "Epoch 78/100\n",
            "25/25 [==============================] - ETA: 0s - loss: 1.0826 - accuracy: 0.6040\n",
            "Epoch 78: val_loss did not improve from 1.37451\n",
            "25/25 [==============================] - 0s 19ms/step - loss: 1.0826 - accuracy: 0.6040 - val_loss: 1.4940 - val_accuracy: 0.5500\n",
            "Epoch 79/100\n",
            "22/25 [=========================>....] - ETA: 0s - loss: 0.9646 - accuracy: 0.6605\n",
            "Epoch 79: val_loss did not improve from 1.37451\n",
            "25/25 [==============================] - 1s 20ms/step - loss: 0.9867 - accuracy: 0.6617 - val_loss: 1.4676 - val_accuracy: 0.5750\n",
            "Epoch 80/100\n",
            "24/25 [===========================>..] - ETA: 0s - loss: 0.9530 - accuracy: 0.6589\n",
            "Epoch 80: val_loss did not improve from 1.37451\n",
            "25/25 [==============================] - 0s 19ms/step - loss: 0.9536 - accuracy: 0.6604 - val_loss: 1.5596 - val_accuracy: 0.5450\n",
            "Epoch 81/100\n",
            "25/25 [==============================] - ETA: 0s - loss: 0.9664 - accuracy: 0.6729\n",
            "Epoch 81: val_loss did not improve from 1.37451\n",
            "25/25 [==============================] - 0s 19ms/step - loss: 0.9664 - accuracy: 0.6729 - val_loss: 1.5932 - val_accuracy: 0.5650\n",
            "Epoch 82/100\n",
            "23/25 [==========================>...] - ETA: 0s - loss: 0.8880 - accuracy: 0.7011\n",
            "Epoch 82: val_loss did not improve from 1.37451\n",
            "25/25 [==============================] - 0s 18ms/step - loss: 0.9072 - accuracy: 0.6942 - val_loss: 1.8260 - val_accuracy: 0.5500\n",
            "Epoch 83/100\n",
            "25/25 [==============================] - ETA: 0s - loss: 0.9996 - accuracy: 0.6704\n",
            "Epoch 83: val_loss did not improve from 1.37451\n",
            "25/25 [==============================] - 1s 20ms/step - loss: 0.9996 - accuracy: 0.6704 - val_loss: 1.6023 - val_accuracy: 0.5650\n",
            "Epoch 84/100\n",
            "24/25 [===========================>..] - ETA: 0s - loss: 0.8949 - accuracy: 0.6914\n",
            "Epoch 84: val_loss did not improve from 1.37451\n",
            "25/25 [==============================] - 0s 19ms/step - loss: 0.8869 - accuracy: 0.6955 - val_loss: 1.6077 - val_accuracy: 0.5450\n",
            "Epoch 85/100\n",
            "25/25 [==============================] - ETA: 0s - loss: 0.9216 - accuracy: 0.6942\n",
            "Epoch 85: val_loss did not improve from 1.37451\n",
            "25/25 [==============================] - 1s 26ms/step - loss: 0.9216 - accuracy: 0.6942 - val_loss: 1.5680 - val_accuracy: 0.5550\n",
            "Epoch 86/100\n",
            "25/25 [==============================] - ETA: 0s - loss: 0.9090 - accuracy: 0.6855\n",
            "Epoch 86: val_loss did not improve from 1.37451\n",
            "25/25 [==============================] - 1s 24ms/step - loss: 0.9090 - accuracy: 0.6855 - val_loss: 1.6876 - val_accuracy: 0.5450\n",
            "Epoch 87/100\n",
            "24/25 [===========================>..] - ETA: 0s - loss: 0.8766 - accuracy: 0.7096\n",
            "Epoch 87: val_loss did not improve from 1.37451\n",
            "25/25 [==============================] - 1s 25ms/step - loss: 0.8812 - accuracy: 0.7043 - val_loss: 1.5834 - val_accuracy: 0.5500\n",
            "Epoch 88/100\n",
            "25/25 [==============================] - ETA: 0s - loss: 0.8362 - accuracy: 0.6917\n",
            "Epoch 88: val_loss did not improve from 1.37451\n",
            "25/25 [==============================] - 1s 25ms/step - loss: 0.8362 - accuracy: 0.6917 - val_loss: 1.6612 - val_accuracy: 0.5700\n",
            "Epoch 89/100\n",
            "24/25 [===========================>..] - ETA: 0s - loss: 0.8480 - accuracy: 0.7201\n",
            "Epoch 89: val_loss did not improve from 1.37451\n",
            "25/25 [==============================] - 1s 26ms/step - loss: 0.8455 - accuracy: 0.7193 - val_loss: 1.7876 - val_accuracy: 0.5750\n",
            "Epoch 90/100\n",
            "24/25 [===========================>..] - ETA: 0s - loss: 0.8209 - accuracy: 0.7396\n",
            "Epoch 90: val_loss did not improve from 1.37451\n",
            "25/25 [==============================] - 1s 29ms/step - loss: 0.8216 - accuracy: 0.7368 - val_loss: 1.6484 - val_accuracy: 0.5750\n",
            "Epoch 91/100\n",
            "25/25 [==============================] - ETA: 0s - loss: 0.8134 - accuracy: 0.7256\n",
            "Epoch 91: val_loss did not improve from 1.37451\n",
            "25/25 [==============================] - 1s 34ms/step - loss: 0.8134 - accuracy: 0.7256 - val_loss: 1.7877 - val_accuracy: 0.5900\n",
            "Epoch 92/100\n",
            "23/25 [==========================>...] - ETA: 0s - loss: 0.8703 - accuracy: 0.7011\n",
            "Epoch 92: val_loss did not improve from 1.37451\n",
            "25/25 [==============================] - 1s 35ms/step - loss: 0.8561 - accuracy: 0.7068 - val_loss: 1.5494 - val_accuracy: 0.5750\n",
            "Epoch 93/100\n",
            "25/25 [==============================] - ETA: 0s - loss: 0.8545 - accuracy: 0.7068\n",
            "Epoch 93: val_loss did not improve from 1.37451\n",
            "25/25 [==============================] - 1s 33ms/step - loss: 0.8545 - accuracy: 0.7068 - val_loss: 1.4637 - val_accuracy: 0.6050\n",
            "Epoch 94/100\n",
            "25/25 [==============================] - ETA: 0s - loss: 0.7675 - accuracy: 0.7431\n",
            "Epoch 94: val_loss did not improve from 1.37451\n",
            "25/25 [==============================] - 1s 33ms/step - loss: 0.7675 - accuracy: 0.7431 - val_loss: 1.5779 - val_accuracy: 0.6150\n",
            "Epoch 95/100\n",
            "25/25 [==============================] - ETA: 0s - loss: 0.7985 - accuracy: 0.7318\n",
            "Epoch 95: val_loss did not improve from 1.37451\n",
            "25/25 [==============================] - 1s 34ms/step - loss: 0.7985 - accuracy: 0.7318 - val_loss: 1.4798 - val_accuracy: 0.6000\n",
            "Epoch 96/100\n",
            "24/25 [===========================>..] - ETA: 0s - loss: 0.7277 - accuracy: 0.7591\n",
            "Epoch 96: val_loss did not improve from 1.37451\n",
            "25/25 [==============================] - 1s 31ms/step - loss: 0.7203 - accuracy: 0.7644 - val_loss: 1.7474 - val_accuracy: 0.5550\n",
            "Epoch 97/100\n",
            "24/25 [===========================>..] - ETA: 0s - loss: 0.7016 - accuracy: 0.7552\n",
            "Epoch 97: val_loss did not improve from 1.37451\n",
            "25/25 [==============================] - 1s 29ms/step - loss: 0.6943 - accuracy: 0.7581 - val_loss: 1.7698 - val_accuracy: 0.5850\n",
            "Epoch 98/100\n",
            "24/25 [===========================>..] - ETA: 0s - loss: 0.7078 - accuracy: 0.7474\n",
            "Epoch 98: val_loss did not improve from 1.37451\n",
            "25/25 [==============================] - 1s 27ms/step - loss: 0.7040 - accuracy: 0.7481 - val_loss: 1.6848 - val_accuracy: 0.5550\n",
            "Epoch 99/100\n",
            "25/25 [==============================] - ETA: 0s - loss: 0.7710 - accuracy: 0.7318\n",
            "Epoch 99: val_loss did not improve from 1.37451\n",
            "25/25 [==============================] - 1s 25ms/step - loss: 0.7710 - accuracy: 0.7318 - val_loss: 1.5567 - val_accuracy: 0.5950\n",
            "Epoch 100/100\n",
            "23/25 [==========================>...] - ETA: 0s - loss: 0.7572 - accuracy: 0.7310\n",
            "Epoch 100: val_loss did not improve from 1.37451\n",
            "25/25 [==============================] - 1s 28ms/step - loss: 0.7493 - accuracy: 0.7381 - val_loss: 1.7053 - val_accuracy: 0.6050\n",
            "Training completed in time:  0:01:23.758915\n"
          ]
        }
      ]
    },
    {
      "cell_type": "code",
      "source": [
        "model.evaluate(x_test,y_test, verbose=0)"
      ],
      "metadata": {
        "colab": {
          "base_uri": "https://localhost:8080/"
        },
        "id": "t1AmKVsnunP_",
        "outputId": "6acb04d6-2526-4c54-d893-3783463c9c1d"
      },
      "execution_count": null,
      "outputs": [
        {
          "output_type": "execute_result",
          "data": {
            "text/plain": [
              "[1.7053042650222778, 0.6050000190734863]"
            ]
          },
          "metadata": {},
          "execution_count": 45
        }
      ]
    },
    {
      "cell_type": "code",
      "source": [],
      "metadata": {
        "id": "d68W8SNTvTxj"
      },
      "execution_count": null,
      "outputs": []
    },
    {
      "cell_type": "code",
      "source": [
        "pd.DataFrame(history.history).plot(figsize=(12,6))\n",
        "\n",
        "plt.show()"
      ],
      "metadata": {
        "colab": {
          "base_uri": "https://localhost:8080/",
          "height": 500
        },
        "id": "aQV8dwX0vT1t",
        "outputId": "5bd788d2-702a-49b6-b284-43f3086d5102"
      },
      "execution_count": null,
      "outputs": [
        {
          "output_type": "display_data",
          "data": {
            "text/plain": [
              "<Figure size 1200x600 with 1 Axes>"
            ],
            "image/png": "[encoded data removed]"
          },
          "metadata": {}
        }
      ]
    },
    {
      "cell_type": "code",
      "source": [
        "model.predict_classes(x_test)"
      ],
      "metadata": {
        "colab": {
          "base_uri": "https://localhost:8080/",
          "height": 177
        },
        "id": "WSacGlF9veTL",
        "outputId": "7694411b-9ca6-473e-ee21-cbaec853577c"
      },
      "execution_count": null,
      "outputs": [
        {
          "output_type": "error",
          "ename": "AttributeError",
          "evalue": "'Sequential' object has no attribute 'predict_classes'",
          "traceback": [
            "\u001b[0;31m---------------------------------------------------------------------------\u001b[0m",
            "\u001b[0;31mAttributeError\u001b[0m                            Traceback (most recent call last)",
            "\u001b[0;32m<ipython-input-63-2d137c63af36>\u001b[0m in \u001b[0;36m<cell line: 1>\u001b[0;34m()\u001b[0m\n\u001b[0;32m----> 1\u001b[0;31m \u001b[0mmodel\u001b[0m\u001b[0;34m.\u001b[0m\u001b[0mpredict_classes\u001b[0m\u001b[0;34m(\u001b[0m\u001b[0mx_test\u001b[0m\u001b[0;34m)\u001b[0m\u001b[0;34m\u001b[0m\u001b[0;34m\u001b[0m\u001b[0m\n\u001b[0m",
            "\u001b[0;31mAttributeError\u001b[0m: 'Sequential' object has no attribute 'predict_classes'"
          ]
        }
      ]
    },
    {
      "cell_type": "code",
      "source": [
        "predictions = model.predict(x_test)\n",
        "predicted_classes = np.argmax(predictions, axis=1)"
      ],
      "metadata": {
        "colab": {
          "base_uri": "https://localhost:8080/"
        },
        "id": "vXPIbDXe-ooH",
        "outputId": "f3c61ca9-7055-434e-d04a-65db374a0ce8"
      },
      "execution_count": null,
      "outputs": [
        {
          "output_type": "stream",
          "name": "stdout",
          "text": [
            "7/7 [==============================] - 0s 4ms/step\n"
          ]
        }
      ]
    },
    {
      "cell_type": "code",
      "source": [
        "model.predict(x_test).argmax(axis=1)"
      ],
      "metadata": {
        "colab": {
          "base_uri": "https://localhost:8080/"
        },
        "id": "u3hw86wj_F38",
        "outputId": "e444ca25-06e8-4530-e826-f8477f6431ed"
      },
      "execution_count": null,
      "outputs": [
        {
          "output_type": "stream",
          "name": "stdout",
          "text": [
            "7/7 [==============================] - 0s 5ms/step\n"
          ]
        },
        {
          "output_type": "execute_result",
          "data": {
            "text/plain": [
              "array([9, 7, 0, 3, 6, 7, 5, 2, 8, 2, 6, 4, 1, 1, 5, 7, 4, 5, 8, 0, 4, 5,\n",
              "       3, 0, 1, 7, 5, 2, 9, 6, 7, 4, 0, 0, 6, 6, 9, 5, 2, 7, 6, 9, 3, 3,\n",
              "       0, 8, 4, 3, 2, 6, 5, 8, 6, 5, 9, 2, 9, 2, 3, 6, 9, 8, 9, 9, 4, 2,\n",
              "       1, 4, 9, 1, 6, 9, 9, 9, 4, 9, 8, 4, 6, 0, 9, 6, 8, 7, 2, 5, 8, 8,\n",
              "       8, 2, 4, 0, 9, 4, 6, 7, 7, 5, 0, 2, 5, 2, 4, 4, 1, 4, 7, 8, 1, 6,\n",
              "       0, 4, 3, 4, 6, 2, 4, 6, 3, 5, 4, 8, 5, 9, 9, 7, 3, 0, 0, 3, 8, 3,\n",
              "       5, 9, 1, 2, 0, 4, 9, 2, 3, 9, 0, 0, 9, 0, 4, 3, 4, 8, 6, 8, 7, 8,\n",
              "       8, 3, 4, 3, 4, 8, 9, 5, 6, 4, 7, 1, 7, 2, 7, 5, 8, 6, 1, 7, 7, 1,\n",
              "       4, 7, 0, 7, 9, 9, 9, 3, 8, 8, 0, 6, 0, 7, 9, 6, 1, 2, 2, 2, 6, 2,\n",
              "       2, 1])"
            ]
          },
          "metadata": {},
          "execution_count": 65
        }
      ]
    },
    {
      "cell_type": "code",
      "source": [
        "filename=\"/content/drive/MyDrive/Colab Notebooks/archive/Data/genres_original/classical/classical.00093.wav\"\n",
        "audio, sample_rate=librosa.load(filename, res_type='kaiser_fast')\n",
        "mfccs_features=librosa.feature.mfcc(y=audio, sr=sample_rate, n_mfcc=40)\n",
        "mfccs_scaled_features=np.mean(mfccs_features.T, axis=0)\n",
        "print(mfccs_scaled_features)\n",
        "mfccs_scaled_features=mfccs_scaled_features.reshape(1,-1)\n",
        "print(mfccs_scaled_features)\n",
        "print(mfccs_scaled_features.shape)\n",
        "predicted_probabilities = model.predict(mfccs_scaled_features)\n",
        "predicted_label = np.argmax(predicted_probabilities, axis=1)\n",
        "print(predicted_label)\n",
        "prediction_class=labelencoder.inverse_transform(predicted_label)\n",
        "prediction_class"
      ],
      "metadata": {
        "colab": {
          "base_uri": "https://localhost:8080/"
        },
        "id": "ILs2KkIBwUP0",
        "outputId": "e303ab74-5d7e-4e27-f1d0-96086ad57a5b"
      },
      "execution_count": null,
      "outputs": [
        {
          "output_type": "stream",
          "name": "stdout",
          "text": [
            "[-2.0742522e+02  1.1761352e+02 -4.1420906e+01  1.3249367e+01\n",
            " -1.6709114e+00  1.5538312e+01 -1.0338403e+01 -1.8724030e+00\n",
            " -1.2771744e+01  6.9996595e+00 -7.7371353e-01  2.0700433e+00\n",
            " -8.2536659e+00 -1.4549943e+00 -7.0775576e+00  9.3633187e-01\n",
            " -5.5453153e+00 -8.5106554e+00 -1.4852844e+00  5.3822665e+00\n",
            "  3.5732195e+00 -6.5724735e+00 -2.0980115e+00 -7.2293749e+00\n",
            "  1.1574033e+00 -1.1270037e+00 -5.3253800e-01 -5.2296793e-01\n",
            " -1.9185405e+00 -8.8532133e+00 -9.1301737e+00 -1.3036840e+00\n",
            "  2.3816864e+00 -4.5769882e+00 -5.1367339e-02  1.3058660e+00\n",
            "  3.5968465e-01 -1.6444212e-01  2.5556419e+00  5.8304348e+00]\n",
            "[[-2.0742522e+02  1.1761352e+02 -4.1420906e+01  1.3249367e+01\n",
            "  -1.6709114e+00  1.5538312e+01 -1.0338403e+01 -1.8724030e+00\n",
            "  -1.2771744e+01  6.9996595e+00 -7.7371353e-01  2.0700433e+00\n",
            "  -8.2536659e+00 -1.4549943e+00 -7.0775576e+00  9.3633187e-01\n",
            "  -5.5453153e+00 -8.5106554e+00 -1.4852844e+00  5.3822665e+00\n",
            "   3.5732195e+00 -6.5724735e+00 -2.0980115e+00 -7.2293749e+00\n",
            "   1.1574033e+00 -1.1270037e+00 -5.3253800e-01 -5.2296793e-01\n",
            "  -1.9185405e+00 -8.8532133e+00 -9.1301737e+00 -1.3036840e+00\n",
            "   2.3816864e+00 -4.5769882e+00 -5.1367339e-02  1.3058660e+00\n",
            "   3.5968465e-01 -1.6444212e-01  2.5556419e+00  5.8304348e+00]]\n",
            "(1, 40)\n",
            "1/1 [==============================] - 0s 47ms/step\n",
            "[1]\n"
          ]
        },
        {
          "output_type": "execute_result",
          "data": {
            "text/plain": [
              "array(['classical'], dtype='<U9')"
            ]
          },
          "metadata": {},
          "execution_count": 72
        }
      ]
    }
  ]
}